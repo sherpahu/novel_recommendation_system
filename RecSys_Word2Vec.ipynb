{
 "cells": [
  {
   "cell_type": "code",
   "execution_count": 1,
   "metadata": {},
   "outputs": [],
   "source": [
    "import os\n",
    "import jieba\n",
    "import re\n",
    "import pandas as pd\n",
    "import numpy as np\n",
    "from sklearn.metrics.pairwise import cosine_similarity\n",
    "from sklearn.feature_extraction.text import CountVectorizer"
   ]
  },
  {
   "cell_type": "markdown",
   "metadata": {},
   "source": [
    "## 读数据"
   ]
  },
  {
   "cell_type": "code",
   "execution_count": 18,
   "metadata": {},
   "outputs": [],
   "source": [
    "df=pd.read_csv('./data/biquge_2500.csv',encoding='UTF-8-sig')"
   ]
  },
  {
   "cell_type": "code",
   "execution_count": 19,
   "metadata": {
    "scrolled": true
   },
   "outputs": [
    {
     "data": {
      "text/html": [
       "<div>\n",
       "<style scoped>\n",
       "    .dataframe tbody tr th:only-of-type {\n",
       "        vertical-align: middle;\n",
       "    }\n",
       "\n",
       "    .dataframe tbody tr th {\n",
       "        vertical-align: top;\n",
       "    }\n",
       "\n",
       "    .dataframe thead th {\n",
       "        text-align: right;\n",
       "    }\n",
       "</style>\n",
       "<table border=\"1\" class=\"dataframe\">\n",
       "  <thead>\n",
       "    <tr style=\"text-align: right;\">\n",
       "      <th></th>\n",
       "      <th>title</th>\n",
       "      <th>link</th>\n",
       "      <th>author</th>\n",
       "      <th>wordNum</th>\n",
       "      <th>read</th>\n",
       "      <th>discription</th>\n",
       "    </tr>\n",
       "  </thead>\n",
       "  <tbody>\n",
       "    <tr>\n",
       "      <th>0</th>\n",
       "      <td>田园喜嫁之娘子太难追</td>\n",
       "      <td>https://www.biquker.com/xiaoshuo/7260.html</td>\n",
       "      <td>楚正秋</td>\n",
       "      <td>1052000字</td>\n",
       "      <td>1</td>\n",
       "      <td>《田园喜嫁之娘子太难追》是由作者楚正秋编写的一部穿越言情小说，目前已完结，主角是姚瑶、秦玥，...</td>\n",
       "    </tr>\n",
       "    <tr>\n",
       "      <th>1</th>\n",
       "      <td>重生之极品赘婿</td>\n",
       "      <td>https://www.biquker.com/xiaoshuo/7246.html</td>\n",
       "      <td>腾霄</td>\n",
       "      <td>1616000字</td>\n",
       "      <td>8</td>\n",
       "      <td>《重生之极品赘婿》是由作者腾霄编写的一部重生小说，目前已完结，主角是杨元良，小说的故事主要讲...</td>\n",
       "    </tr>\n",
       "    <tr>\n",
       "      <th>2</th>\n",
       "      <td>萌娘守护者</td>\n",
       "      <td>https://www.biquker.com/xiaoshuo/7243.html</td>\n",
       "      <td>王骑士</td>\n",
       "      <td>2874000字</td>\n",
       "      <td>3</td>\n",
       "      <td>《萌娘守护者》是由作者王骑士编写的一部科幻小说，目前已完结，主角是吴风，小说的故事主要讲述了...</td>\n",
       "    </tr>\n",
       "    <tr>\n",
       "      <th>3</th>\n",
       "      <td>老婆大人有点暖</td>\n",
       "      <td>https://www.biquker.com/xiaoshuo/7242.html</td>\n",
       "      <td>i笛声悠扬</td>\n",
       "      <td>2006000字</td>\n",
       "      <td>3</td>\n",
       "      <td>《老婆大人有点暖》是由作者i笛声悠扬编写的一部言情小说，目前已完结，主角是夏馨菲、穆梓轩、，...</td>\n",
       "    </tr>\n",
       "    <tr>\n",
       "      <th>4</th>\n",
       "      <td>夜撩甜妻：秘爱豪门小太太</td>\n",
       "      <td>https://www.biquker.com/xiaoshuo/7240.html</td>\n",
       "      <td>炒鸡萌</td>\n",
       "      <td>1962000字</td>\n",
       "      <td>4</td>\n",
       "      <td>《夜撩甜妻：秘爱豪门小太太》是由作者炒鸡萌编写的一部言情小说，目前已完结，主角是桑梚、顾祈言...</td>\n",
       "    </tr>\n",
       "  </tbody>\n",
       "</table>\n",
       "</div>"
      ],
      "text/plain": [
       "          title                                        link author   wordNum  \\\n",
       "0    田园喜嫁之娘子太难追  https://www.biquker.com/xiaoshuo/7260.html    楚正秋  1052000字   \n",
       "1       重生之极品赘婿  https://www.biquker.com/xiaoshuo/7246.html     腾霄  1616000字   \n",
       "2         萌娘守护者  https://www.biquker.com/xiaoshuo/7243.html    王骑士  2874000字   \n",
       "3       老婆大人有点暖  https://www.biquker.com/xiaoshuo/7242.html  i笛声悠扬  2006000字   \n",
       "4  夜撩甜妻：秘爱豪门小太太  https://www.biquker.com/xiaoshuo/7240.html    炒鸡萌  1962000字   \n",
       "\n",
       "   read                                        discription  \n",
       "0     1  《田园喜嫁之娘子太难追》是由作者楚正秋编写的一部穿越言情小说，目前已完结，主角是姚瑶、秦玥，...  \n",
       "1     8  《重生之极品赘婿》是由作者腾霄编写的一部重生小说，目前已完结，主角是杨元良，小说的故事主要讲...  \n",
       "2     3  《萌娘守护者》是由作者王骑士编写的一部科幻小说，目前已完结，主角是吴风，小说的故事主要讲述了...  \n",
       "3     3  《老婆大人有点暖》是由作者i笛声悠扬编写的一部言情小说，目前已完结，主角是夏馨菲、穆梓轩、，...  \n",
       "4     4  《夜撩甜妻：秘爱豪门小太太》是由作者炒鸡萌编写的一部言情小说，目前已完结，主角是桑梚、顾祈言...  "
      ]
     },
     "execution_count": 19,
     "metadata": {},
     "output_type": "execute_result"
    }
   ],
   "source": [
    "df.head()"
   ]
  },
  {
   "cell_type": "markdown",
   "metadata": {},
   "source": [
    "## 获得id和标题2id的字典"
   ]
  },
  {
   "cell_type": "code",
   "execution_count": 20,
   "metadata": {},
   "outputs": [],
   "source": [
    "df['id']=np.array([df['link'][i][-9:-5] for i in range(len(df['link']))])\n",
    "#df.drop(columns=['link'],inplace=True)"
   ]
  },
  {
   "cell_type": "code",
   "execution_count": 21,
   "metadata": {
    "scrolled": true
   },
   "outputs": [
    {
     "data": {
      "text/html": [
       "<div>\n",
       "<style scoped>\n",
       "    .dataframe tbody tr th:only-of-type {\n",
       "        vertical-align: middle;\n",
       "    }\n",
       "\n",
       "    .dataframe tbody tr th {\n",
       "        vertical-align: top;\n",
       "    }\n",
       "\n",
       "    .dataframe thead th {\n",
       "        text-align: right;\n",
       "    }\n",
       "</style>\n",
       "<table border=\"1\" class=\"dataframe\">\n",
       "  <thead>\n",
       "    <tr style=\"text-align: right;\">\n",
       "      <th></th>\n",
       "      <th>title</th>\n",
       "      <th>link</th>\n",
       "      <th>author</th>\n",
       "      <th>wordNum</th>\n",
       "      <th>read</th>\n",
       "      <th>discription</th>\n",
       "      <th>id</th>\n",
       "    </tr>\n",
       "  </thead>\n",
       "  <tbody>\n",
       "    <tr>\n",
       "      <th>0</th>\n",
       "      <td>田园喜嫁之娘子太难追</td>\n",
       "      <td>https://www.biquker.com/xiaoshuo/7260.html</td>\n",
       "      <td>楚正秋</td>\n",
       "      <td>1052000字</td>\n",
       "      <td>1</td>\n",
       "      <td>《田园喜嫁之娘子太难追》是由作者楚正秋编写的一部穿越言情小说，目前已完结，主角是姚瑶、秦玥，...</td>\n",
       "      <td>7260</td>\n",
       "    </tr>\n",
       "    <tr>\n",
       "      <th>1</th>\n",
       "      <td>重生之极品赘婿</td>\n",
       "      <td>https://www.biquker.com/xiaoshuo/7246.html</td>\n",
       "      <td>腾霄</td>\n",
       "      <td>1616000字</td>\n",
       "      <td>8</td>\n",
       "      <td>《重生之极品赘婿》是由作者腾霄编写的一部重生小说，目前已完结，主角是杨元良，小说的故事主要讲...</td>\n",
       "      <td>7246</td>\n",
       "    </tr>\n",
       "    <tr>\n",
       "      <th>2</th>\n",
       "      <td>萌娘守护者</td>\n",
       "      <td>https://www.biquker.com/xiaoshuo/7243.html</td>\n",
       "      <td>王骑士</td>\n",
       "      <td>2874000字</td>\n",
       "      <td>3</td>\n",
       "      <td>《萌娘守护者》是由作者王骑士编写的一部科幻小说，目前已完结，主角是吴风，小说的故事主要讲述了...</td>\n",
       "      <td>7243</td>\n",
       "    </tr>\n",
       "    <tr>\n",
       "      <th>3</th>\n",
       "      <td>老婆大人有点暖</td>\n",
       "      <td>https://www.biquker.com/xiaoshuo/7242.html</td>\n",
       "      <td>i笛声悠扬</td>\n",
       "      <td>2006000字</td>\n",
       "      <td>3</td>\n",
       "      <td>《老婆大人有点暖》是由作者i笛声悠扬编写的一部言情小说，目前已完结，主角是夏馨菲、穆梓轩、，...</td>\n",
       "      <td>7242</td>\n",
       "    </tr>\n",
       "    <tr>\n",
       "      <th>4</th>\n",
       "      <td>夜撩甜妻：秘爱豪门小太太</td>\n",
       "      <td>https://www.biquker.com/xiaoshuo/7240.html</td>\n",
       "      <td>炒鸡萌</td>\n",
       "      <td>1962000字</td>\n",
       "      <td>4</td>\n",
       "      <td>《夜撩甜妻：秘爱豪门小太太》是由作者炒鸡萌编写的一部言情小说，目前已完结，主角是桑梚、顾祈言...</td>\n",
       "      <td>7240</td>\n",
       "    </tr>\n",
       "  </tbody>\n",
       "</table>\n",
       "</div>"
      ],
      "text/plain": [
       "          title                                        link author   wordNum  \\\n",
       "0    田园喜嫁之娘子太难追  https://www.biquker.com/xiaoshuo/7260.html    楚正秋  1052000字   \n",
       "1       重生之极品赘婿  https://www.biquker.com/xiaoshuo/7246.html     腾霄  1616000字   \n",
       "2         萌娘守护者  https://www.biquker.com/xiaoshuo/7243.html    王骑士  2874000字   \n",
       "3       老婆大人有点暖  https://www.biquker.com/xiaoshuo/7242.html  i笛声悠扬  2006000字   \n",
       "4  夜撩甜妻：秘爱豪门小太太  https://www.biquker.com/xiaoshuo/7240.html    炒鸡萌  1962000字   \n",
       "\n",
       "   read                                        discription    id  \n",
       "0     1  《田园喜嫁之娘子太难追》是由作者楚正秋编写的一部穿越言情小说，目前已完结，主角是姚瑶、秦玥，...  7260  \n",
       "1     8  《重生之极品赘婿》是由作者腾霄编写的一部重生小说，目前已完结，主角是杨元良，小说的故事主要讲...  7246  \n",
       "2     3  《萌娘守护者》是由作者王骑士编写的一部科幻小说，目前已完结，主角是吴风，小说的故事主要讲述了...  7243  \n",
       "3     3  《老婆大人有点暖》是由作者i笛声悠扬编写的一部言情小说，目前已完结，主角是夏馨菲、穆梓轩、，...  7242  \n",
       "4     4  《夜撩甜妻：秘爱豪门小太太》是由作者炒鸡萌编写的一部言情小说，目前已完结，主角是桑梚、顾祈言...  7240  "
      ]
     },
     "execution_count": 21,
     "metadata": {},
     "output_type": "execute_result"
    }
   ],
   "source": [
    "df.head()"
   ]
  },
  {
   "cell_type": "code",
   "execution_count": 22,
   "metadata": {},
   "outputs": [
    {
     "data": {
      "text/plain": [
       "'7246'"
      ]
     },
     "execution_count": 22,
     "metadata": {},
     "output_type": "execute_result"
    }
   ],
   "source": [
    "t2id={}\n",
    "id2t={}\n",
    "for i in range(len(df)):\n",
    "    t2id[df.loc[i]['title']]=df.loc[i]['id']\n",
    "    id2t[df.loc[i]['id']]=df.loc[i]['title']\n",
    "t2id['重生之极品赘婿']"
   ]
  },
  {
   "cell_type": "code",
   "execution_count": 23,
   "metadata": {},
   "outputs": [
    {
     "data": {
      "text/html": [
       "<div>\n",
       "<style scoped>\n",
       "    .dataframe tbody tr th:only-of-type {\n",
       "        vertical-align: middle;\n",
       "    }\n",
       "\n",
       "    .dataframe tbody tr th {\n",
       "        vertical-align: top;\n",
       "    }\n",
       "\n",
       "    .dataframe thead th {\n",
       "        text-align: right;\n",
       "    }\n",
       "</style>\n",
       "<table border=\"1\" class=\"dataframe\">\n",
       "  <thead>\n",
       "    <tr style=\"text-align: right;\">\n",
       "      <th></th>\n",
       "      <th>title</th>\n",
       "      <th>link</th>\n",
       "      <th>author</th>\n",
       "      <th>wordNum</th>\n",
       "      <th>read</th>\n",
       "      <th>discription</th>\n",
       "      <th>id</th>\n",
       "    </tr>\n",
       "  </thead>\n",
       "  <tbody>\n",
       "    <tr>\n",
       "      <th>0</th>\n",
       "      <td>田园喜嫁之娘子太难追</td>\n",
       "      <td>https://www.biquker.com/xiaoshuo/7260.html</td>\n",
       "      <td>楚正秋</td>\n",
       "      <td>1052000字</td>\n",
       "      <td>1</td>\n",
       "      <td>《田园喜嫁之娘子太难追》是由作者楚正秋编写的一部穿越言情小说，目前已完结，主角是姚瑶、秦玥，...</td>\n",
       "      <td>7260</td>\n",
       "    </tr>\n",
       "    <tr>\n",
       "      <th>1</th>\n",
       "      <td>重生之极品赘婿</td>\n",
       "      <td>https://www.biquker.com/xiaoshuo/7246.html</td>\n",
       "      <td>腾霄</td>\n",
       "      <td>1616000字</td>\n",
       "      <td>8</td>\n",
       "      <td>《重生之极品赘婿》是由作者腾霄编写的一部重生小说，目前已完结，主角是杨元良，小说的故事主要讲...</td>\n",
       "      <td>7246</td>\n",
       "    </tr>\n",
       "    <tr>\n",
       "      <th>2</th>\n",
       "      <td>萌娘守护者</td>\n",
       "      <td>https://www.biquker.com/xiaoshuo/7243.html</td>\n",
       "      <td>王骑士</td>\n",
       "      <td>2874000字</td>\n",
       "      <td>3</td>\n",
       "      <td>《萌娘守护者》是由作者王骑士编写的一部科幻小说，目前已完结，主角是吴风，小说的故事主要讲述了...</td>\n",
       "      <td>7243</td>\n",
       "    </tr>\n",
       "    <tr>\n",
       "      <th>3</th>\n",
       "      <td>老婆大人有点暖</td>\n",
       "      <td>https://www.biquker.com/xiaoshuo/7242.html</td>\n",
       "      <td>i笛声悠扬</td>\n",
       "      <td>2006000字</td>\n",
       "      <td>3</td>\n",
       "      <td>《老婆大人有点暖》是由作者i笛声悠扬编写的一部言情小说，目前已完结，主角是夏馨菲、穆梓轩、，...</td>\n",
       "      <td>7242</td>\n",
       "    </tr>\n",
       "    <tr>\n",
       "      <th>4</th>\n",
       "      <td>夜撩甜妻：秘爱豪门小太太</td>\n",
       "      <td>https://www.biquker.com/xiaoshuo/7240.html</td>\n",
       "      <td>炒鸡萌</td>\n",
       "      <td>1962000字</td>\n",
       "      <td>4</td>\n",
       "      <td>《夜撩甜妻：秘爱豪门小太太》是由作者炒鸡萌编写的一部言情小说，目前已完结，主角是桑梚、顾祈言...</td>\n",
       "      <td>7240</td>\n",
       "    </tr>\n",
       "  </tbody>\n",
       "</table>\n",
       "</div>"
      ],
      "text/plain": [
       "          title                                        link author   wordNum  \\\n",
       "0    田园喜嫁之娘子太难追  https://www.biquker.com/xiaoshuo/7260.html    楚正秋  1052000字   \n",
       "1       重生之极品赘婿  https://www.biquker.com/xiaoshuo/7246.html     腾霄  1616000字   \n",
       "2         萌娘守护者  https://www.biquker.com/xiaoshuo/7243.html    王骑士  2874000字   \n",
       "3       老婆大人有点暖  https://www.biquker.com/xiaoshuo/7242.html  i笛声悠扬  2006000字   \n",
       "4  夜撩甜妻：秘爱豪门小太太  https://www.biquker.com/xiaoshuo/7240.html    炒鸡萌  1962000字   \n",
       "\n",
       "   read                                        discription    id  \n",
       "0     1  《田园喜嫁之娘子太难追》是由作者楚正秋编写的一部穿越言情小说，目前已完结，主角是姚瑶、秦玥，...  7260  \n",
       "1     8  《重生之极品赘婿》是由作者腾霄编写的一部重生小说，目前已完结，主角是杨元良，小说的故事主要讲...  7246  \n",
       "2     3  《萌娘守护者》是由作者王骑士编写的一部科幻小说，目前已完结，主角是吴风，小说的故事主要讲述了...  7243  \n",
       "3     3  《老婆大人有点暖》是由作者i笛声悠扬编写的一部言情小说，目前已完结，主角是夏馨菲、穆梓轩、，...  7242  \n",
       "4     4  《夜撩甜妻：秘爱豪门小太太》是由作者炒鸡萌编写的一部言情小说，目前已完结，主角是桑梚、顾祈言...  7240  "
      ]
     },
     "execution_count": 23,
     "metadata": {},
     "output_type": "execute_result"
    }
   ],
   "source": [
    "df.set_index('id')\n",
    "df.head()"
   ]
  },
  {
   "cell_type": "markdown",
   "metadata": {},
   "source": [
    "## 描述信息分词，去停用词"
   ]
  },
  {
   "cell_type": "code",
   "execution_count": 24,
   "metadata": {},
   "outputs": [],
   "source": [
    "def get_stopwords_list():\n",
    "    stopwords = [line.strip() for line in open('./stopwords.txt',encoding='UTF-8-sig').readlines()]\n",
    "    return stopwords"
   ]
  },
  {
   "cell_type": "code",
   "execution_count": 25,
   "metadata": {},
   "outputs": [],
   "source": [
    "stopwords_list=get_stopwords_list()"
   ]
  },
  {
   "cell_type": "code",
   "execution_count": 26,
   "metadata": {},
   "outputs": [
    {
     "data": {
      "text/plain": [
       "['作者', '编写', '目前', '主角', '小说']"
      ]
     },
     "execution_count": 26,
     "metadata": {},
     "output_type": "execute_result"
    }
   ],
   "source": [
    "stopwords_list[:5]"
   ]
  },
  {
   "cell_type": "code",
   "execution_count": 27,
   "metadata": {},
   "outputs": [],
   "source": [
    "def remove_digits(input_str):\n",
    "    punc = u'0123456789.'\n",
    "    output_str = re.sub(r'[{}]+'.format(punc), '', input_str)\n",
    "    return output_str\n",
    "def move_stopwords(sentence_list, stopwords_list):\n",
    "    out_list = []#results\n",
    "    for word in sentence_list:\n",
    "        if word not in stopwords_list:\n",
    "            if not remove_digits(word):\n",
    "                continue\n",
    "            if word != '\\t':\n",
    "                out_list.append(word)\n",
    "    return ' '.join(out_list)"
   ]
  },
  {
   "cell_type": "code",
   "execution_count": 28,
   "metadata": {},
   "outputs": [],
   "source": [
    "#df['split_title']=df['title'].map(lambda x:move_stopwords(list(jieba.cut(x)),stopwords_list))\n",
    "df['discription']=df['discription'].astype('str')"
   ]
  },
  {
   "cell_type": "code",
   "execution_count": 29,
   "metadata": {},
   "outputs": [
    {
     "data": {
      "text/html": [
       "<div>\n",
       "<style scoped>\n",
       "    .dataframe tbody tr th:only-of-type {\n",
       "        vertical-align: middle;\n",
       "    }\n",
       "\n",
       "    .dataframe tbody tr th {\n",
       "        vertical-align: top;\n",
       "    }\n",
       "\n",
       "    .dataframe thead th {\n",
       "        text-align: right;\n",
       "    }\n",
       "</style>\n",
       "<table border=\"1\" class=\"dataframe\">\n",
       "  <thead>\n",
       "    <tr style=\"text-align: right;\">\n",
       "      <th></th>\n",
       "      <th>title</th>\n",
       "      <th>link</th>\n",
       "      <th>author</th>\n",
       "      <th>wordNum</th>\n",
       "      <th>read</th>\n",
       "      <th>discription</th>\n",
       "      <th>id</th>\n",
       "    </tr>\n",
       "  </thead>\n",
       "  <tbody>\n",
       "    <tr>\n",
       "      <th>0</th>\n",
       "      <td>田园喜嫁之娘子太难追</td>\n",
       "      <td>https://www.biquker.com/xiaoshuo/7260.html</td>\n",
       "      <td>楚正秋</td>\n",
       "      <td>1052000字</td>\n",
       "      <td>1</td>\n",
       "      <td>《田园喜嫁之娘子太难追》是由作者楚正秋编写的一部穿越言情小说，目前已完结，主角是姚瑶、秦玥，...</td>\n",
       "      <td>7260</td>\n",
       "    </tr>\n",
       "    <tr>\n",
       "      <th>1</th>\n",
       "      <td>重生之极品赘婿</td>\n",
       "      <td>https://www.biquker.com/xiaoshuo/7246.html</td>\n",
       "      <td>腾霄</td>\n",
       "      <td>1616000字</td>\n",
       "      <td>8</td>\n",
       "      <td>《重生之极品赘婿》是由作者腾霄编写的一部重生小说，目前已完结，主角是杨元良，小说的故事主要讲...</td>\n",
       "      <td>7246</td>\n",
       "    </tr>\n",
       "    <tr>\n",
       "      <th>2</th>\n",
       "      <td>萌娘守护者</td>\n",
       "      <td>https://www.biquker.com/xiaoshuo/7243.html</td>\n",
       "      <td>王骑士</td>\n",
       "      <td>2874000字</td>\n",
       "      <td>3</td>\n",
       "      <td>《萌娘守护者》是由作者王骑士编写的一部科幻小说，目前已完结，主角是吴风，小说的故事主要讲述了...</td>\n",
       "      <td>7243</td>\n",
       "    </tr>\n",
       "    <tr>\n",
       "      <th>3</th>\n",
       "      <td>老婆大人有点暖</td>\n",
       "      <td>https://www.biquker.com/xiaoshuo/7242.html</td>\n",
       "      <td>i笛声悠扬</td>\n",
       "      <td>2006000字</td>\n",
       "      <td>3</td>\n",
       "      <td>《老婆大人有点暖》是由作者i笛声悠扬编写的一部言情小说，目前已完结，主角是夏馨菲、穆梓轩、，...</td>\n",
       "      <td>7242</td>\n",
       "    </tr>\n",
       "    <tr>\n",
       "      <th>4</th>\n",
       "      <td>夜撩甜妻：秘爱豪门小太太</td>\n",
       "      <td>https://www.biquker.com/xiaoshuo/7240.html</td>\n",
       "      <td>炒鸡萌</td>\n",
       "      <td>1962000字</td>\n",
       "      <td>4</td>\n",
       "      <td>《夜撩甜妻：秘爱豪门小太太》是由作者炒鸡萌编写的一部言情小说，目前已完结，主角是桑梚、顾祈言...</td>\n",
       "      <td>7240</td>\n",
       "    </tr>\n",
       "  </tbody>\n",
       "</table>\n",
       "</div>"
      ],
      "text/plain": [
       "          title                                        link author   wordNum  \\\n",
       "0    田园喜嫁之娘子太难追  https://www.biquker.com/xiaoshuo/7260.html    楚正秋  1052000字   \n",
       "1       重生之极品赘婿  https://www.biquker.com/xiaoshuo/7246.html     腾霄  1616000字   \n",
       "2         萌娘守护者  https://www.biquker.com/xiaoshuo/7243.html    王骑士  2874000字   \n",
       "3       老婆大人有点暖  https://www.biquker.com/xiaoshuo/7242.html  i笛声悠扬  2006000字   \n",
       "4  夜撩甜妻：秘爱豪门小太太  https://www.biquker.com/xiaoshuo/7240.html    炒鸡萌  1962000字   \n",
       "\n",
       "   read                                        discription    id  \n",
       "0     1  《田园喜嫁之娘子太难追》是由作者楚正秋编写的一部穿越言情小说，目前已完结，主角是姚瑶、秦玥，...  7260  \n",
       "1     8  《重生之极品赘婿》是由作者腾霄编写的一部重生小说，目前已完结，主角是杨元良，小说的故事主要讲...  7246  \n",
       "2     3  《萌娘守护者》是由作者王骑士编写的一部科幻小说，目前已完结，主角是吴风，小说的故事主要讲述了...  7243  \n",
       "3     3  《老婆大人有点暖》是由作者i笛声悠扬编写的一部言情小说，目前已完结，主角是夏馨菲、穆梓轩、，...  7242  \n",
       "4     4  《夜撩甜妻：秘爱豪门小太太》是由作者炒鸡萌编写的一部言情小说，目前已完结，主角是桑梚、顾祈言...  7240  "
      ]
     },
     "execution_count": 29,
     "metadata": {},
     "output_type": "execute_result"
    }
   ],
   "source": [
    "df.head()"
   ]
  },
  {
   "cell_type": "code",
   "execution_count": 30,
   "metadata": {},
   "outputs": [
    {
     "data": {
      "text/html": [
       "<div>\n",
       "<style scoped>\n",
       "    .dataframe tbody tr th:only-of-type {\n",
       "        vertical-align: middle;\n",
       "    }\n",
       "\n",
       "    .dataframe tbody tr th {\n",
       "        vertical-align: top;\n",
       "    }\n",
       "\n",
       "    .dataframe thead th {\n",
       "        text-align: right;\n",
       "    }\n",
       "</style>\n",
       "<table border=\"1\" class=\"dataframe\">\n",
       "  <thead>\n",
       "    <tr style=\"text-align: right;\">\n",
       "      <th></th>\n",
       "      <th>title</th>\n",
       "      <th>link</th>\n",
       "      <th>author</th>\n",
       "      <th>wordNum</th>\n",
       "      <th>read</th>\n",
       "      <th>discription</th>\n",
       "      <th>id</th>\n",
       "    </tr>\n",
       "  </thead>\n",
       "  <tbody>\n",
       "    <tr>\n",
       "      <th>0</th>\n",
       "      <td>田园喜嫁之娘子太难追</td>\n",
       "      <td>https://www.biquker.com/xiaoshuo/7260.html</td>\n",
       "      <td>楚正秋</td>\n",
       "      <td>1052000字</td>\n",
       "      <td>1</td>\n",
       "      <td>田园 喜嫁 娘子 太难 追 楚正秋 穿越 言情小说 完结 姚瑶 秦玥 姚瑶 穿越 变成 村里...</td>\n",
       "      <td>7260</td>\n",
       "    </tr>\n",
       "    <tr>\n",
       "      <th>1</th>\n",
       "      <td>重生之极品赘婿</td>\n",
       "      <td>https://www.biquker.com/xiaoshuo/7246.html</td>\n",
       "      <td>腾霄</td>\n",
       "      <td>1616000字</td>\n",
       "      <td>8</td>\n",
       "      <td>重生 极品 赘婿 腾霄 重生 完结 杨元良 科学 杨 国威 穿越 类似 宋朝 平行 世界 成...</td>\n",
       "      <td>7246</td>\n",
       "    </tr>\n",
       "    <tr>\n",
       "      <th>2</th>\n",
       "      <td>萌娘守护者</td>\n",
       "      <td>https://www.biquker.com/xiaoshuo/7243.html</td>\n",
       "      <td>王骑士</td>\n",
       "      <td>2874000字</td>\n",
       "      <td>3</td>\n",
       "      <td>萌娘 守护者 王 骑士 科幻小说 完结 吴风 想 穿越 动漫 世界 想 动漫 妹纸 零距离 ...</td>\n",
       "      <td>7243</td>\n",
       "    </tr>\n",
       "    <tr>\n",
       "      <th>3</th>\n",
       "      <td>老婆大人有点暖</td>\n",
       "      <td>https://www.biquker.com/xiaoshuo/7242.html</td>\n",
       "      <td>i笛声悠扬</td>\n",
       "      <td>2006000字</td>\n",
       "      <td>3</td>\n",
       "      <td>老婆大人 有点 暖 i 笛声 悠扬 言情小说 完结 夏馨菲 穆梓轩 一场 精心设计 嫁给 挚...</td>\n",
       "      <td>7242</td>\n",
       "    </tr>\n",
       "    <tr>\n",
       "      <th>4</th>\n",
       "      <td>夜撩甜妻：秘爱豪门小太太</td>\n",
       "      <td>https://www.biquker.com/xiaoshuo/7240.html</td>\n",
       "      <td>炒鸡萌</td>\n",
       "      <td>1962000字</td>\n",
       "      <td>4</td>\n",
       "      <td>夜 撩 甜妻 秘爱 豪门 太太 炒鸡萌 言情小说 完结 桑 梚 顾祈言 姐姐 婚前 死亡 代...</td>\n",
       "      <td>7240</td>\n",
       "    </tr>\n",
       "  </tbody>\n",
       "</table>\n",
       "</div>"
      ],
      "text/plain": [
       "          title                                        link author   wordNum  \\\n",
       "0    田园喜嫁之娘子太难追  https://www.biquker.com/xiaoshuo/7260.html    楚正秋  1052000字   \n",
       "1       重生之极品赘婿  https://www.biquker.com/xiaoshuo/7246.html     腾霄  1616000字   \n",
       "2         萌娘守护者  https://www.biquker.com/xiaoshuo/7243.html    王骑士  2874000字   \n",
       "3       老婆大人有点暖  https://www.biquker.com/xiaoshuo/7242.html  i笛声悠扬  2006000字   \n",
       "4  夜撩甜妻：秘爱豪门小太太  https://www.biquker.com/xiaoshuo/7240.html    炒鸡萌  1962000字   \n",
       "\n",
       "   read                                        discription    id  \n",
       "0     1  田园 喜嫁 娘子 太难 追 楚正秋 穿越 言情小说 完结 姚瑶 秦玥 姚瑶 穿越 变成 村里...  7260  \n",
       "1     8  重生 极品 赘婿 腾霄 重生 完结 杨元良 科学 杨 国威 穿越 类似 宋朝 平行 世界 成...  7246  \n",
       "2     3  萌娘 守护者 王 骑士 科幻小说 完结 吴风 想 穿越 动漫 世界 想 动漫 妹纸 零距离 ...  7243  \n",
       "3     3  老婆大人 有点 暖 i 笛声 悠扬 言情小说 完结 夏馨菲 穆梓轩 一场 精心设计 嫁给 挚...  7242  \n",
       "4     4  夜 撩 甜妻 秘爱 豪门 太太 炒鸡萌 言情小说 完结 桑 梚 顾祈言 姐姐 婚前 死亡 代...  7240  "
      ]
     },
     "execution_count": 30,
     "metadata": {},
     "output_type": "execute_result"
    }
   ],
   "source": [
    "df['discription']=df['discription'].map(lambda x:move_stopwords(list(jieba.cut(x.replace(u'\\xa0', u''))),stopwords_list))\n",
    "df.head()"
   ]
  },
  {
   "cell_type": "code",
   "execution_count": 31,
   "metadata": {
    "scrolled": true
   },
   "outputs": [
    {
     "data": {
      "text/plain": [
       "'田园 喜嫁 娘子 太难 追 楚正秋 穿越 言情小说 完结 姚瑶 秦玥 姚瑶 穿越 变成 村里 傻妞 姚二丫 破屋 烂床 穷苦 无粮 但父 慈母 善 姐姐 彪悍 护短 弟妹 呆萌 纯良 一穷二白 何惧 有手 脚 脑 财源 自然 滚滚 极品 亲戚 一箩筐 姚瑶 原则 小女子 动口 动手 毒舌 怼 吐血 出手 没商量 一手 种田 一手 经商 家人 美 小日子 过得 温馨 惬意 及笄 便 媒婆 踏破 门槛 姚瑶 一句 嫁人 嫁人 我要 娶 夫 打发 干净 第二天 竟真 有人 主动'"
      ]
     },
     "execution_count": 31,
     "metadata": {},
     "output_type": "execute_result"
    }
   ],
   "source": [
    "df['discription'][0]"
   ]
  },
  {
   "cell_type": "code",
   "execution_count": 32,
   "metadata": {},
   "outputs": [],
   "source": [
    "df[[\"id\", \"title\", \"discription\"]].to_csv(\"./data/biquge2500_wordsegs.csv\", index=False)"
   ]
  },
  {
   "cell_type": "markdown",
   "metadata": {},
   "source": [
    "## spark Word2Vec"
   ]
  },
  {
   "cell_type": "code",
   "execution_count": 16,
   "metadata": {},
   "outputs": [],
   "source": [
    "import findspark\n",
    "findspark.init()\n",
    "\n",
    "from pyspark.sql import SparkSession\n",
    "spark = SparkSession \\\n",
    "    .builder \\\n",
    "    .appName(\"test pyspark\") \\\n",
    "    .getOrCreate()\n",
    "\n",
    "sc = spark.sparkContext"
   ]
  },
  {
   "cell_type": "code",
   "execution_count": 33,
   "metadata": {
    "scrolled": false
   },
   "outputs": [
    {
     "name": "stdout",
     "output_type": "stream",
     "text": [
      "+----+------------------------+--------------------------------+\n",
      "|  id|                   title|                     discription|\n",
      "+----+------------------------+--------------------------------+\n",
      "|7260|    田园喜嫁之娘子太难追|田园 喜嫁 娘子 太难 追 楚正秋...|\n",
      "|7246|          重生之极品赘婿|重生 极品 赘婿 腾霄 重生 完结...|\n",
      "|7243|              萌娘守护者|萌娘 守护者 王 骑士 科幻小说 ...|\n",
      "|7242|          老婆大人有点暖| 老婆大人 有点 暖 i 笛声 悠扬...|\n",
      "|7240|夜撩甜妻：秘爱豪门小太太| 夜 撩 甜妻 秘爱 豪门 太太 炒...|\n",
      "+----+------------------------+--------------------------------+\n",
      "only showing top 5 rows\n",
      "\n"
     ]
    }
   ],
   "source": [
    "#pyspark读取保存的csv数据\n",
    "df = spark.read.csv(\"./data/biquge2500_wordsegs.csv\", header=True)\n",
    "df.show(5)"
   ]
  },
  {
   "cell_type": "code",
   "execution_count": 48,
   "metadata": {},
   "outputs": [],
   "source": [
    "from pyspark.sql import functions as F\n",
    "from pyspark.sql import types as T\n",
    "# 把非常的字符串格式变成LIST形式\n",
    "df = df.withColumn('discription_split', F.split(df.discription, \" \"))"
   ]
  },
  {
   "cell_type": "code",
   "execution_count": 52,
   "metadata": {},
   "outputs": [],
   "source": [
    "from pyspark.ml.feature import Word2Vec\n",
    "\n",
    "word2Vec = Word2Vec(\n",
    "    vectorSize=5, \n",
    "    minCount=0, \n",
    "    inputCol=\"discription_split\", \n",
    "    outputCol=\"word2vec\")\n",
    "\n",
    "model = word2Vec.fit(df)\n",
    "\n",
    "# 注意这一步，会得到整个doc的word embedding\n",
    "df_word2vec = model.transform(df)"
   ]
  },
  {
   "cell_type": "code",
   "execution_count": 53,
   "metadata": {},
   "outputs": [
    {
     "name": "stdout",
     "output_type": "stream",
     "text": [
      "root\n",
      " |-- id: string (nullable = true)\n",
      " |-- title: string (nullable = true)\n",
      " |-- discription: string (nullable = true)\n",
      " |-- words_split: array (nullable = true)\n",
      " |    |-- element: string (containsNull = true)\n",
      " |-- discription_split: array (nullable = true)\n",
      " |    |-- element: string (containsNull = true)\n",
      " |-- word2vec: vector (nullable = true)\n",
      "\n"
     ]
    }
   ],
   "source": [
    "df_word2vec.printSchema()"
   ]
  },
  {
   "cell_type": "code",
   "execution_count": 54,
   "metadata": {},
   "outputs": [],
   "source": [
    "df_word2vec.select(\"id\", \"title\", \"word2vec\") \\\n",
    "           .toPandas() \\\n",
    "           .to_csv('./data/biquge2500_word2vec.csv', index=False)"
   ]
  },
  {
   "cell_type": "markdown",
   "metadata": {},
   "source": [
    "## 计算余弦相似度"
   ]
  },
  {
   "cell_type": "code",
   "execution_count": 118,
   "metadata": {},
   "outputs": [
    {
     "data": {
      "text/html": [
       "<div>\n",
       "<style scoped>\n",
       "    .dataframe tbody tr th:only-of-type {\n",
       "        vertical-align: middle;\n",
       "    }\n",
       "\n",
       "    .dataframe tbody tr th {\n",
       "        vertical-align: top;\n",
       "    }\n",
       "\n",
       "    .dataframe thead th {\n",
       "        text-align: right;\n",
       "    }\n",
       "</style>\n",
       "<table border=\"1\" class=\"dataframe\">\n",
       "  <thead>\n",
       "    <tr style=\"text-align: right;\">\n",
       "      <th></th>\n",
       "      <th>id</th>\n",
       "      <th>title</th>\n",
       "      <th>word2vec</th>\n",
       "    </tr>\n",
       "  </thead>\n",
       "  <tbody>\n",
       "    <tr>\n",
       "      <th>0</th>\n",
       "      <td>7260</td>\n",
       "      <td>田园喜嫁之娘子太难追</td>\n",
       "      <td>[-0.031071706303642897, 0.030041159313360724, ...</td>\n",
       "    </tr>\n",
       "    <tr>\n",
       "      <th>1</th>\n",
       "      <td>7246</td>\n",
       "      <td>重生之极品赘婿</td>\n",
       "      <td>[-0.06551222717951469, -0.002855279442757882, ...</td>\n",
       "    </tr>\n",
       "    <tr>\n",
       "      <th>2</th>\n",
       "      <td>7243</td>\n",
       "      <td>萌娘守护者</td>\n",
       "      <td>[-0.05120468946089122, 0.0352963985377838, -0....</td>\n",
       "    </tr>\n",
       "    <tr>\n",
       "      <th>3</th>\n",
       "      <td>7242</td>\n",
       "      <td>老婆大人有点暖</td>\n",
       "      <td>[-0.07042298251014602, -0.0030097731921289645,...</td>\n",
       "    </tr>\n",
       "    <tr>\n",
       "      <th>4</th>\n",
       "      <td>7240</td>\n",
       "      <td>夜撩甜妻：秘爱豪门小太太</td>\n",
       "      <td>[-0.09128295101931896, 0.0811130655788945, -0....</td>\n",
       "    </tr>\n",
       "  </tbody>\n",
       "</table>\n",
       "</div>"
      ],
      "text/plain": [
       "     id         title                                           word2vec\n",
       "0  7260    田园喜嫁之娘子太难追  [-0.031071706303642897, 0.030041159313360724, ...\n",
       "1  7246       重生之极品赘婿  [-0.06551222717951469, -0.002855279442757882, ...\n",
       "2  7243         萌娘守护者  [-0.05120468946089122, 0.0352963985377838, -0....\n",
       "3  7242       老婆大人有点暖  [-0.07042298251014602, -0.0030097731921289645,...\n",
       "4  7240  夜撩甜妻：秘爱豪门小太太  [-0.09128295101931896, 0.0811130655788945, -0...."
      ]
     },
     "execution_count": 118,
     "metadata": {},
     "output_type": "execute_result"
    }
   ],
   "source": [
    "import json\n",
    "df=pd.read_csv('./data/biquge2500_word2vec.csv')\n",
    "df['word2vec'] = df['word2vec'].map(lambda x : np.array(json.loads(x)))\n",
    "df.head()"
   ]
  },
  {
   "cell_type": "code",
   "execution_count": 119,
   "metadata": {},
   "outputs": [
    {
     "data": {
      "text/plain": [
       "<2499x5 sparse matrix of type '<class 'numpy.float64'>'\n",
       "\twith 12495 stored elements in Compressed Sparse Row format>"
      ]
     },
     "execution_count": 119,
     "metadata": {},
     "output_type": "execute_result"
    }
   ],
   "source": [
    "from scipy.sparse import csr_matrix\n",
    "count_matrix=csr_matrix([x for x in df['word2vec']])\n",
    "count_matrix"
   ]
  },
  {
   "cell_type": "code",
   "execution_count": 120,
   "metadata": {
    "scrolled": true
   },
   "outputs": [
    {
     "data": {
      "text/plain": [
       "array([[ 1.        ,  0.80491583,  0.98721657, ...,  0.64790842,\n",
       "         0.92766168,  0.10717272],\n",
       "       [ 0.80491583,  1.        ,  0.86500322, ...,  0.74857171,\n",
       "         0.67354298,  0.60396668],\n",
       "       [ 0.98721657,  0.86500322,  1.        , ...,  0.72360224,\n",
       "         0.87973713,  0.18163349],\n",
       "       ...,\n",
       "       [ 0.64790842,  0.74857171,  0.72360224, ...,  1.        ,\n",
       "         0.63769849,  0.17317898],\n",
       "       [ 0.92766168,  0.67354298,  0.87973713, ...,  0.63769849,\n",
       "         1.        , -0.04158661],\n",
       "       [ 0.10717272,  0.60396668,  0.18163349, ...,  0.17317898,\n",
       "        -0.04158661,  1.        ]])"
      ]
     },
     "execution_count": 120,
     "metadata": {},
     "output_type": "execute_result"
    }
   ],
   "source": [
    "cosine_sim = cosine_similarity(count_matrix,count_matrix)\n",
    "cosine_sim"
   ]
  },
  {
   "cell_type": "code",
   "execution_count": 121,
   "metadata": {},
   "outputs": [
    {
     "data": {
      "text/plain": [
       "0    0\n",
       "1    1\n",
       "2    2\n",
       "3    3\n",
       "4    4\n",
       "dtype: int64"
      ]
     },
     "execution_count": 121,
     "metadata": {},
     "output_type": "execute_result"
    }
   ],
   "source": [
    "indices = pd.Series(df.index)\n",
    "indices[:5]"
   ]
  },
  {
   "cell_type": "markdown",
   "metadata": {},
   "source": [
    "## 选择10部值得推荐的小说"
   ]
  },
  {
   "cell_type": "code",
   "execution_count": 122,
   "metadata": {},
   "outputs": [],
   "source": [
    "def recommendations(title, cosine_sim = cosine_sim):    \n",
    "    recommended_movies = []\n",
    "    # gettin the index of the movie that matches the title\n",
    "    idx = indices[indices == title].index[0]\n",
    "    # creating a Series with the similarity scores in descending order\n",
    "    score_series = pd.Series(cosine_sim[idx]).sort_values(ascending = False)\n",
    "    # getting the indexes of the 10 most similar movies\n",
    "    top_10_indexes = list(score_series.iloc[1:10].index)\n",
    "    # populating the list with the titles of the best 10 matching movies\n",
    "    for i in top_10_indexes:\n",
    "        recommended_movies.append(list(df.index)[i])\n",
    "    return recommended_movies"
   ]
  },
  {
   "cell_type": "code",
   "execution_count": 133,
   "metadata": {},
   "outputs": [
    {
     "name": "stdout",
     "output_type": "stream",
     "text": [
      "《田园喜嫁之娘子太难追》的相关推荐小说是：\n",
      "\n",
      "异世修罗：废材小姐不好惹\n",
      "邪王嗜宠：惊世弃妃太嚣张\n",
      "重生之皇后驯夫记\n",
      "斗破苍穹Ⅱ：绝世萧炎\n",
      "网游之天谴修罗\n",
      "神医毒女：邪王盛宠小狂妃\n",
      "废材逆袭：冰山王爷倾城妃\n",
      "邪帝重生：爆宠小萌妃\n",
      "浴火重生：毒后归来\n"
     ]
    }
   ],
   "source": [
    "#Word2Vec\n",
    "rec_list=recommendations(0)\n",
    "print('《'+id2t['7260']+\"》\"+'的相关推荐小说是：')\n",
    "print()\n",
    "for v in rec_list:\n",
    "    print(id2t[str(df.iloc[v]['id'])])"
   ]
  },
  {
   "cell_type": "code",
   "execution_count": 134,
   "metadata": {},
   "outputs": [
    {
     "data": {
      "text/html": [
       "<div>\n",
       "<style scoped>\n",
       "    .dataframe tbody tr th:only-of-type {\n",
       "        vertical-align: middle;\n",
       "    }\n",
       "\n",
       "    .dataframe tbody tr th {\n",
       "        vertical-align: top;\n",
       "    }\n",
       "\n",
       "    .dataframe thead th {\n",
       "        text-align: right;\n",
       "    }\n",
       "</style>\n",
       "<table border=\"1\" class=\"dataframe\">\n",
       "  <thead>\n",
       "    <tr style=\"text-align: right;\">\n",
       "      <th></th>\n",
       "      <th>id</th>\n",
       "      <th>title</th>\n",
       "      <th>word2vec</th>\n",
       "    </tr>\n",
       "  </thead>\n",
       "  <tbody>\n",
       "    <tr>\n",
       "      <th>0</th>\n",
       "      <td>7260</td>\n",
       "      <td>田园喜嫁之娘子太难追</td>\n",
       "      <td>[-0.031071706303642897, 0.030041159313360724, ...</td>\n",
       "    </tr>\n",
       "    <tr>\n",
       "      <th>1</th>\n",
       "      <td>7246</td>\n",
       "      <td>重生之极品赘婿</td>\n",
       "      <td>[-0.06551222717951469, -0.002855279442757882, ...</td>\n",
       "    </tr>\n",
       "    <tr>\n",
       "      <th>2</th>\n",
       "      <td>7243</td>\n",
       "      <td>萌娘守护者</td>\n",
       "      <td>[-0.05120468946089122, 0.0352963985377838, -0....</td>\n",
       "    </tr>\n",
       "    <tr>\n",
       "      <th>3</th>\n",
       "      <td>7242</td>\n",
       "      <td>老婆大人有点暖</td>\n",
       "      <td>[-0.07042298251014602, -0.0030097731921289645,...</td>\n",
       "    </tr>\n",
       "    <tr>\n",
       "      <th>4</th>\n",
       "      <td>7240</td>\n",
       "      <td>夜撩甜妻：秘爱豪门小太太</td>\n",
       "      <td>[-0.09128295101931896, 0.0811130655788945, -0....</td>\n",
       "    </tr>\n",
       "  </tbody>\n",
       "</table>\n",
       "</div>"
      ],
      "text/plain": [
       "     id         title                                           word2vec\n",
       "0  7260    田园喜嫁之娘子太难追  [-0.031071706303642897, 0.030041159313360724, ...\n",
       "1  7246       重生之极品赘婿  [-0.06551222717951469, -0.002855279442757882, ...\n",
       "2  7243         萌娘守护者  [-0.05120468946089122, 0.0352963985377838, -0....\n",
       "3  7242       老婆大人有点暖  [-0.07042298251014602, -0.0030097731921289645,...\n",
       "4  7240  夜撩甜妻：秘爱豪门小太太  [-0.09128295101931896, 0.0811130655788945, -0...."
      ]
     },
     "execution_count": 134,
     "metadata": {},
     "output_type": "execute_result"
    }
   ],
   "source": [
    "df.head()"
   ]
  },
  {
   "cell_type": "code",
   "execution_count": 136,
   "metadata": {
    "scrolled": true
   },
   "outputs": [
    {
     "data": {
      "text/html": [
       "<div>\n",
       "<style scoped>\n",
       "    .dataframe tbody tr th:only-of-type {\n",
       "        vertical-align: middle;\n",
       "    }\n",
       "\n",
       "    .dataframe tbody tr th {\n",
       "        vertical-align: top;\n",
       "    }\n",
       "\n",
       "    .dataframe thead th {\n",
       "        text-align: right;\n",
       "    }\n",
       "</style>\n",
       "<table border=\"1\" class=\"dataframe\">\n",
       "  <thead>\n",
       "    <tr style=\"text-align: right;\">\n",
       "      <th></th>\n",
       "      <th>id</th>\n",
       "      <th>title</th>\n",
       "      <th>word2vec</th>\n",
       "      <th>rec</th>\n",
       "    </tr>\n",
       "  </thead>\n",
       "  <tbody>\n",
       "    <tr>\n",
       "      <th>0</th>\n",
       "      <td>7260</td>\n",
       "      <td>田园喜嫁之娘子太难追</td>\n",
       "      <td>[-0.031071706303642897, 0.030041159313360724, ...</td>\n",
       "      <td>异世修罗：废材小姐不好惹 邪王嗜宠：惊世弃妃太嚣张 重生之皇后驯夫记 斗破苍穹Ⅱ：绝世萧炎 ...</td>\n",
       "    </tr>\n",
       "    <tr>\n",
       "      <th>1</th>\n",
       "      <td>7246</td>\n",
       "      <td>重生之极品赘婿</td>\n",
       "      <td>[-0.06551222717951469, -0.002855279442757882, ...</td>\n",
       "      <td>绝色玄灵师：邪君的腹黑妃 重生之鬼眼医妃 弃妃倾世 大理寺少卿的宠物生涯 重生毒后不好惹 掀...</td>\n",
       "    </tr>\n",
       "    <tr>\n",
       "      <th>2</th>\n",
       "      <td>7243</td>\n",
       "      <td>萌娘守护者</td>\n",
       "      <td>[-0.05120468946089122, 0.0352963985377838, -0....</td>\n",
       "      <td>凤逆天下：穿越之绝色兽妃 神医嫡女嚣张妃 重生之嫡女不乖 帝宠之惊世凰妃 影后重生：军阀先生...</td>\n",
       "    </tr>\n",
       "    <tr>\n",
       "      <th>3</th>\n",
       "      <td>7242</td>\n",
       "      <td>老婆大人有点暖</td>\n",
       "      <td>[-0.07042298251014602, -0.0030097731921289645,...</td>\n",
       "      <td>农家小地主 萌宝快递：拐个妈咪送爹地 征服六个你 金牌婚宠：老婆买一送二 有个傻瓜曾经爱过你...</td>\n",
       "    </tr>\n",
       "    <tr>\n",
       "      <th>4</th>\n",
       "      <td>7240</td>\n",
       "      <td>夜撩甜妻：秘爱豪门小太太</td>\n",
       "      <td>[-0.09128295101931896, 0.0811130655788945, -0....</td>\n",
       "      <td>庶女·明兰传 职美上司 王爷五行缺我 六宫凤华 抓鬼小农民 霸王爱人 只为他折腰+番外 一不...</td>\n",
       "    </tr>\n",
       "  </tbody>\n",
       "</table>\n",
       "</div>"
      ],
      "text/plain": [
       "     id         title                                           word2vec  \\\n",
       "0  7260    田园喜嫁之娘子太难追  [-0.031071706303642897, 0.030041159313360724, ...   \n",
       "1  7246       重生之极品赘婿  [-0.06551222717951469, -0.002855279442757882, ...   \n",
       "2  7243         萌娘守护者  [-0.05120468946089122, 0.0352963985377838, -0....   \n",
       "3  7242       老婆大人有点暖  [-0.07042298251014602, -0.0030097731921289645,...   \n",
       "4  7240  夜撩甜妻：秘爱豪门小太太  [-0.09128295101931896, 0.0811130655788945, -0....   \n",
       "\n",
       "                                                 rec  \n",
       "0  异世修罗：废材小姐不好惹 邪王嗜宠：惊世弃妃太嚣张 重生之皇后驯夫记 斗破苍穹Ⅱ：绝世萧炎 ...  \n",
       "1  绝色玄灵师：邪君的腹黑妃 重生之鬼眼医妃 弃妃倾世 大理寺少卿的宠物生涯 重生毒后不好惹 掀...  \n",
       "2  凤逆天下：穿越之绝色兽妃 神医嫡女嚣张妃 重生之嫡女不乖 帝宠之惊世凰妃 影后重生：军阀先生...  \n",
       "3  农家小地主 萌宝快递：拐个妈咪送爹地 征服六个你 金牌婚宠：老婆买一送二 有个傻瓜曾经爱过你...  \n",
       "4  庶女·明兰传 职美上司 王爷五行缺我 六宫凤华 抓鬼小农民 霸王爱人 只为他折腰+番外 一不...  "
      ]
     },
     "execution_count": 136,
     "metadata": {},
     "output_type": "execute_result"
    }
   ],
   "source": [
    "df['rec']=df.index.map(lambda x:' '.join([id2t[str(df.iloc[y]['id'])] for y in recommendations(x)]))\n",
    "df.head()"
   ]
  },
  {
   "cell_type": "code",
   "execution_count": 137,
   "metadata": {},
   "outputs": [],
   "source": [
    "df.drop(columns=['word2vec'],inplace=True)"
   ]
  },
  {
   "cell_type": "markdown",
   "metadata": {},
   "source": [
    "# 保存数据"
   ]
  },
  {
   "cell_type": "code",
   "execution_count": 138,
   "metadata": {},
   "outputs": [],
   "source": [
    "df.to_csv(\"./results/biquge2500_Word2Vec_results.csv\",index=False, sep=',',encoding='utf-8')"
   ]
  },
  {
   "cell_type": "code",
   "execution_count": null,
   "metadata": {},
   "outputs": [],
   "source": []
  }
 ],
 "metadata": {
  "kernelspec": {
   "display_name": "Python 3",
   "language": "python",
   "name": "python3"
  },
  "language_info": {
   "codemirror_mode": {
    "name": "ipython",
    "version": 3
   },
   "file_extension": ".py",
   "mimetype": "text/x-python",
   "name": "python",
   "nbconvert_exporter": "python",
   "pygments_lexer": "ipython3",
   "version": "3.7.9"
  }
 },
 "nbformat": 4,
 "nbformat_minor": 4
}
