{
 "cells": [
  {
   "cell_type": "code",
   "execution_count": 2,
   "metadata": {},
   "outputs": [],
   "source": [
    "import os\n",
    "import jieba\n",
    "import re\n",
    "import pandas as pd\n",
    "import numpy as np\n",
    "from sklearn.metrics.pairwise import cosine_similarity\n",
    "from sklearn.feature_extraction.text import CountVectorizer"
   ]
  },
  {
   "cell_type": "markdown",
   "metadata": {},
   "source": [
    "## 读数据"
   ]
  },
  {
   "cell_type": "code",
   "execution_count": 3,
   "metadata": {},
   "outputs": [],
   "source": [
    "df=pd.read_csv('./data/biquge_2500.csv',encoding='UTF-8-sig')"
   ]
  },
  {
   "cell_type": "code",
   "execution_count": 4,
   "metadata": {
    "scrolled": true
   },
   "outputs": [
    {
     "data": {
      "text/html": [
       "<div>\n",
       "<style scoped>\n",
       "    .dataframe tbody tr th:only-of-type {\n",
       "        vertical-align: middle;\n",
       "    }\n",
       "\n",
       "    .dataframe tbody tr th {\n",
       "        vertical-align: top;\n",
       "    }\n",
       "\n",
       "    .dataframe thead th {\n",
       "        text-align: right;\n",
       "    }\n",
       "</style>\n",
       "<table border=\"1\" class=\"dataframe\">\n",
       "  <thead>\n",
       "    <tr style=\"text-align: right;\">\n",
       "      <th></th>\n",
       "      <th>title</th>\n",
       "      <th>link</th>\n",
       "      <th>author</th>\n",
       "      <th>wordNum</th>\n",
       "      <th>read</th>\n",
       "      <th>discription</th>\n",
       "    </tr>\n",
       "  </thead>\n",
       "  <tbody>\n",
       "    <tr>\n",
       "      <th>0</th>\n",
       "      <td>田园喜嫁之娘子太难追</td>\n",
       "      <td>https://www.biquker.com/xiaoshuo/7260.html</td>\n",
       "      <td>楚正秋</td>\n",
       "      <td>1052000字</td>\n",
       "      <td>1</td>\n",
       "      <td>《田园喜嫁之娘子太难追》是由作者楚正秋编写的一部穿越言情小说，目前已完结，主角是姚瑶、秦玥，...</td>\n",
       "    </tr>\n",
       "    <tr>\n",
       "      <th>1</th>\n",
       "      <td>重生之极品赘婿</td>\n",
       "      <td>https://www.biquker.com/xiaoshuo/7246.html</td>\n",
       "      <td>腾霄</td>\n",
       "      <td>1616000字</td>\n",
       "      <td>8</td>\n",
       "      <td>《重生之极品赘婿》是由作者腾霄编写的一部重生小说，目前已完结，主角是杨元良，小说的故事主要讲...</td>\n",
       "    </tr>\n",
       "    <tr>\n",
       "      <th>2</th>\n",
       "      <td>萌娘守护者</td>\n",
       "      <td>https://www.biquker.com/xiaoshuo/7243.html</td>\n",
       "      <td>王骑士</td>\n",
       "      <td>2874000字</td>\n",
       "      <td>3</td>\n",
       "      <td>《萌娘守护者》是由作者王骑士编写的一部科幻小说，目前已完结，主角是吴风，小说的故事主要讲述了...</td>\n",
       "    </tr>\n",
       "    <tr>\n",
       "      <th>3</th>\n",
       "      <td>老婆大人有点暖</td>\n",
       "      <td>https://www.biquker.com/xiaoshuo/7242.html</td>\n",
       "      <td>i笛声悠扬</td>\n",
       "      <td>2006000字</td>\n",
       "      <td>3</td>\n",
       "      <td>《老婆大人有点暖》是由作者i笛声悠扬编写的一部言情小说，目前已完结，主角是夏馨菲、穆梓轩、，...</td>\n",
       "    </tr>\n",
       "    <tr>\n",
       "      <th>4</th>\n",
       "      <td>夜撩甜妻：秘爱豪门小太太</td>\n",
       "      <td>https://www.biquker.com/xiaoshuo/7240.html</td>\n",
       "      <td>炒鸡萌</td>\n",
       "      <td>1962000字</td>\n",
       "      <td>4</td>\n",
       "      <td>《夜撩甜妻：秘爱豪门小太太》是由作者炒鸡萌编写的一部言情小说，目前已完结，主角是桑梚、顾祈言...</td>\n",
       "    </tr>\n",
       "  </tbody>\n",
       "</table>\n",
       "</div>"
      ],
      "text/plain": [
       "          title                                        link author   wordNum  \\\n",
       "0    田园喜嫁之娘子太难追  https://www.biquker.com/xiaoshuo/7260.html    楚正秋  1052000字   \n",
       "1       重生之极品赘婿  https://www.biquker.com/xiaoshuo/7246.html     腾霄  1616000字   \n",
       "2         萌娘守护者  https://www.biquker.com/xiaoshuo/7243.html    王骑士  2874000字   \n",
       "3       老婆大人有点暖  https://www.biquker.com/xiaoshuo/7242.html  i笛声悠扬  2006000字   \n",
       "4  夜撩甜妻：秘爱豪门小太太  https://www.biquker.com/xiaoshuo/7240.html    炒鸡萌  1962000字   \n",
       "\n",
       "   read                                        discription  \n",
       "0     1  《田园喜嫁之娘子太难追》是由作者楚正秋编写的一部穿越言情小说，目前已完结，主角是姚瑶、秦玥，...  \n",
       "1     8  《重生之极品赘婿》是由作者腾霄编写的一部重生小说，目前已完结，主角是杨元良，小说的故事主要讲...  \n",
       "2     3  《萌娘守护者》是由作者王骑士编写的一部科幻小说，目前已完结，主角是吴风，小说的故事主要讲述了...  \n",
       "3     3  《老婆大人有点暖》是由作者i笛声悠扬编写的一部言情小说，目前已完结，主角是夏馨菲、穆梓轩、，...  \n",
       "4     4  《夜撩甜妻：秘爱豪门小太太》是由作者炒鸡萌编写的一部言情小说，目前已完结，主角是桑梚、顾祈言...  "
      ]
     },
     "execution_count": 4,
     "metadata": {},
     "output_type": "execute_result"
    }
   ],
   "source": [
    "df.head()"
   ]
  },
  {
   "cell_type": "markdown",
   "metadata": {},
   "source": [
    "## 获得id和标题2id的字典"
   ]
  },
  {
   "cell_type": "code",
   "execution_count": 52,
   "metadata": {},
   "outputs": [],
   "source": [
    "df['id']=np.array([df['link'][i][-9:-5] for i in range(len(df['link']))])\n",
    "#df.drop(columns=['link'],inplace=True)"
   ]
  },
  {
   "cell_type": "code",
   "execution_count": 53,
   "metadata": {
    "scrolled": true
   },
   "outputs": [
    {
     "data": {
      "text/html": [
       "<div>\n",
       "<style scoped>\n",
       "    .dataframe tbody tr th:only-of-type {\n",
       "        vertical-align: middle;\n",
       "    }\n",
       "\n",
       "    .dataframe tbody tr th {\n",
       "        vertical-align: top;\n",
       "    }\n",
       "\n",
       "    .dataframe thead th {\n",
       "        text-align: right;\n",
       "    }\n",
       "</style>\n",
       "<table border=\"1\" class=\"dataframe\">\n",
       "  <thead>\n",
       "    <tr style=\"text-align: right;\">\n",
       "      <th></th>\n",
       "      <th>title</th>\n",
       "      <th>link</th>\n",
       "      <th>author</th>\n",
       "      <th>wordNum</th>\n",
       "      <th>read</th>\n",
       "      <th>discription</th>\n",
       "      <th>id</th>\n",
       "    </tr>\n",
       "  </thead>\n",
       "  <tbody>\n",
       "    <tr>\n",
       "      <th>0</th>\n",
       "      <td>田园喜嫁之娘子太难追</td>\n",
       "      <td>https://www.biquker.com/xiaoshuo/7260.html</td>\n",
       "      <td>楚正秋</td>\n",
       "      <td>1052000字</td>\n",
       "      <td>1</td>\n",
       "      <td>《田园喜嫁之娘子太难追》是由作者楚正秋编写的一部穿越言情小说，目前已完结，主角是姚瑶、秦玥，...</td>\n",
       "      <td>7260</td>\n",
       "    </tr>\n",
       "    <tr>\n",
       "      <th>1</th>\n",
       "      <td>重生之极品赘婿</td>\n",
       "      <td>https://www.biquker.com/xiaoshuo/7246.html</td>\n",
       "      <td>腾霄</td>\n",
       "      <td>1616000字</td>\n",
       "      <td>8</td>\n",
       "      <td>《重生之极品赘婿》是由作者腾霄编写的一部重生小说，目前已完结，主角是杨元良，小说的故事主要讲...</td>\n",
       "      <td>7246</td>\n",
       "    </tr>\n",
       "    <tr>\n",
       "      <th>2</th>\n",
       "      <td>萌娘守护者</td>\n",
       "      <td>https://www.biquker.com/xiaoshuo/7243.html</td>\n",
       "      <td>王骑士</td>\n",
       "      <td>2874000字</td>\n",
       "      <td>3</td>\n",
       "      <td>《萌娘守护者》是由作者王骑士编写的一部科幻小说，目前已完结，主角是吴风，小说的故事主要讲述了...</td>\n",
       "      <td>7243</td>\n",
       "    </tr>\n",
       "    <tr>\n",
       "      <th>3</th>\n",
       "      <td>老婆大人有点暖</td>\n",
       "      <td>https://www.biquker.com/xiaoshuo/7242.html</td>\n",
       "      <td>i笛声悠扬</td>\n",
       "      <td>2006000字</td>\n",
       "      <td>3</td>\n",
       "      <td>《老婆大人有点暖》是由作者i笛声悠扬编写的一部言情小说，目前已完结，主角是夏馨菲、穆梓轩、，...</td>\n",
       "      <td>7242</td>\n",
       "    </tr>\n",
       "    <tr>\n",
       "      <th>4</th>\n",
       "      <td>夜撩甜妻：秘爱豪门小太太</td>\n",
       "      <td>https://www.biquker.com/xiaoshuo/7240.html</td>\n",
       "      <td>炒鸡萌</td>\n",
       "      <td>1962000字</td>\n",
       "      <td>4</td>\n",
       "      <td>《夜撩甜妻：秘爱豪门小太太》是由作者炒鸡萌编写的一部言情小说，目前已完结，主角是桑梚、顾祈言...</td>\n",
       "      <td>7240</td>\n",
       "    </tr>\n",
       "  </tbody>\n",
       "</table>\n",
       "</div>"
      ],
      "text/plain": [
       "          title                                        link author   wordNum  \\\n",
       "0    田园喜嫁之娘子太难追  https://www.biquker.com/xiaoshuo/7260.html    楚正秋  1052000字   \n",
       "1       重生之极品赘婿  https://www.biquker.com/xiaoshuo/7246.html     腾霄  1616000字   \n",
       "2         萌娘守护者  https://www.biquker.com/xiaoshuo/7243.html    王骑士  2874000字   \n",
       "3       老婆大人有点暖  https://www.biquker.com/xiaoshuo/7242.html  i笛声悠扬  2006000字   \n",
       "4  夜撩甜妻：秘爱豪门小太太  https://www.biquker.com/xiaoshuo/7240.html    炒鸡萌  1962000字   \n",
       "\n",
       "   read                                        discription    id  \n",
       "0     1  《田园喜嫁之娘子太难追》是由作者楚正秋编写的一部穿越言情小说，目前已完结，主角是姚瑶、秦玥，...  7260  \n",
       "1     8  《重生之极品赘婿》是由作者腾霄编写的一部重生小说，目前已完结，主角是杨元良，小说的故事主要讲...  7246  \n",
       "2     3  《萌娘守护者》是由作者王骑士编写的一部科幻小说，目前已完结，主角是吴风，小说的故事主要讲述了...  7243  \n",
       "3     3  《老婆大人有点暖》是由作者i笛声悠扬编写的一部言情小说，目前已完结，主角是夏馨菲、穆梓轩、，...  7242  \n",
       "4     4  《夜撩甜妻：秘爱豪门小太太》是由作者炒鸡萌编写的一部言情小说，目前已完结，主角是桑梚、顾祈言...  7240  "
      ]
     },
     "execution_count": 53,
     "metadata": {},
     "output_type": "execute_result"
    }
   ],
   "source": [
    "df.head()"
   ]
  },
  {
   "cell_type": "code",
   "execution_count": 54,
   "metadata": {},
   "outputs": [
    {
     "data": {
      "text/plain": [
       "'7246'"
      ]
     },
     "execution_count": 54,
     "metadata": {},
     "output_type": "execute_result"
    }
   ],
   "source": [
    "t2id={}\n",
    "id2t={}\n",
    "for i in range(len(df)):\n",
    "    t2id[df.loc[i]['title']]=df.loc[i]['id']\n",
    "    id2t[df.loc[i]['id']]=df.loc[i]['title']\n",
    "t2id['重生之极品赘婿']"
   ]
  },
  {
   "cell_type": "code",
   "execution_count": 55,
   "metadata": {},
   "outputs": [
    {
     "data": {
      "text/html": [
       "<div>\n",
       "<style scoped>\n",
       "    .dataframe tbody tr th:only-of-type {\n",
       "        vertical-align: middle;\n",
       "    }\n",
       "\n",
       "    .dataframe tbody tr th {\n",
       "        vertical-align: top;\n",
       "    }\n",
       "\n",
       "    .dataframe thead th {\n",
       "        text-align: right;\n",
       "    }\n",
       "</style>\n",
       "<table border=\"1\" class=\"dataframe\">\n",
       "  <thead>\n",
       "    <tr style=\"text-align: right;\">\n",
       "      <th></th>\n",
       "      <th>title</th>\n",
       "      <th>link</th>\n",
       "      <th>author</th>\n",
       "      <th>wordNum</th>\n",
       "      <th>read</th>\n",
       "      <th>discription</th>\n",
       "    </tr>\n",
       "    <tr>\n",
       "      <th>id</th>\n",
       "      <th></th>\n",
       "      <th></th>\n",
       "      <th></th>\n",
       "      <th></th>\n",
       "      <th></th>\n",
       "      <th></th>\n",
       "    </tr>\n",
       "  </thead>\n",
       "  <tbody>\n",
       "    <tr>\n",
       "      <th>7260</th>\n",
       "      <td>田园喜嫁之娘子太难追</td>\n",
       "      <td>https://www.biquker.com/xiaoshuo/7260.html</td>\n",
       "      <td>楚正秋</td>\n",
       "      <td>1052000字</td>\n",
       "      <td>1</td>\n",
       "      <td>《田园喜嫁之娘子太难追》是由作者楚正秋编写的一部穿越言情小说，目前已完结，主角是姚瑶、秦玥，...</td>\n",
       "    </tr>\n",
       "    <tr>\n",
       "      <th>7246</th>\n",
       "      <td>重生之极品赘婿</td>\n",
       "      <td>https://www.biquker.com/xiaoshuo/7246.html</td>\n",
       "      <td>腾霄</td>\n",
       "      <td>1616000字</td>\n",
       "      <td>8</td>\n",
       "      <td>《重生之极品赘婿》是由作者腾霄编写的一部重生小说，目前已完结，主角是杨元良，小说的故事主要讲...</td>\n",
       "    </tr>\n",
       "    <tr>\n",
       "      <th>7243</th>\n",
       "      <td>萌娘守护者</td>\n",
       "      <td>https://www.biquker.com/xiaoshuo/7243.html</td>\n",
       "      <td>王骑士</td>\n",
       "      <td>2874000字</td>\n",
       "      <td>3</td>\n",
       "      <td>《萌娘守护者》是由作者王骑士编写的一部科幻小说，目前已完结，主角是吴风，小说的故事主要讲述了...</td>\n",
       "    </tr>\n",
       "    <tr>\n",
       "      <th>7242</th>\n",
       "      <td>老婆大人有点暖</td>\n",
       "      <td>https://www.biquker.com/xiaoshuo/7242.html</td>\n",
       "      <td>i笛声悠扬</td>\n",
       "      <td>2006000字</td>\n",
       "      <td>3</td>\n",
       "      <td>《老婆大人有点暖》是由作者i笛声悠扬编写的一部言情小说，目前已完结，主角是夏馨菲、穆梓轩、，...</td>\n",
       "    </tr>\n",
       "    <tr>\n",
       "      <th>7240</th>\n",
       "      <td>夜撩甜妻：秘爱豪门小太太</td>\n",
       "      <td>https://www.biquker.com/xiaoshuo/7240.html</td>\n",
       "      <td>炒鸡萌</td>\n",
       "      <td>1962000字</td>\n",
       "      <td>4</td>\n",
       "      <td>《夜撩甜妻：秘爱豪门小太太》是由作者炒鸡萌编写的一部言情小说，目前已完结，主角是桑梚、顾祈言...</td>\n",
       "    </tr>\n",
       "  </tbody>\n",
       "</table>\n",
       "</div>"
      ],
      "text/plain": [
       "             title                                        link author  \\\n",
       "id                                                                      \n",
       "7260    田园喜嫁之娘子太难追  https://www.biquker.com/xiaoshuo/7260.html    楚正秋   \n",
       "7246       重生之极品赘婿  https://www.biquker.com/xiaoshuo/7246.html     腾霄   \n",
       "7243         萌娘守护者  https://www.biquker.com/xiaoshuo/7243.html    王骑士   \n",
       "7242       老婆大人有点暖  https://www.biquker.com/xiaoshuo/7242.html  i笛声悠扬   \n",
       "7240  夜撩甜妻：秘爱豪门小太太  https://www.biquker.com/xiaoshuo/7240.html    炒鸡萌   \n",
       "\n",
       "       wordNum  read                                        discription  \n",
       "id                                                                       \n",
       "7260  1052000字     1  《田园喜嫁之娘子太难追》是由作者楚正秋编写的一部穿越言情小说，目前已完结，主角是姚瑶、秦玥，...  \n",
       "7246  1616000字     8  《重生之极品赘婿》是由作者腾霄编写的一部重生小说，目前已完结，主角是杨元良，小说的故事主要讲...  \n",
       "7243  2874000字     3  《萌娘守护者》是由作者王骑士编写的一部科幻小说，目前已完结，主角是吴风，小说的故事主要讲述了...  \n",
       "7242  2006000字     3  《老婆大人有点暖》是由作者i笛声悠扬编写的一部言情小说，目前已完结，主角是夏馨菲、穆梓轩、，...  \n",
       "7240  1962000字     4  《夜撩甜妻：秘爱豪门小太太》是由作者炒鸡萌编写的一部言情小说，目前已完结，主角是桑梚、顾祈言...  "
      ]
     },
     "execution_count": 55,
     "metadata": {},
     "output_type": "execute_result"
    }
   ],
   "source": [
    "df.set_index('id',inplace=True)\n",
    "df.head()"
   ]
  },
  {
   "cell_type": "markdown",
   "metadata": {},
   "source": [
    "## 描述信息分词，去停用词"
   ]
  },
  {
   "cell_type": "code",
   "execution_count": 56,
   "metadata": {},
   "outputs": [],
   "source": [
    "def get_stopwords_list():\n",
    "    stopwords = [line.strip() for line in open('./stopwords.txt',encoding='UTF-8-sig').readlines()]\n",
    "    return stopwords"
   ]
  },
  {
   "cell_type": "code",
   "execution_count": 57,
   "metadata": {},
   "outputs": [],
   "source": [
    "stopwords_list=get_stopwords_list()"
   ]
  },
  {
   "cell_type": "code",
   "execution_count": 58,
   "metadata": {},
   "outputs": [
    {
     "data": {
      "text/plain": [
       "['作者', '编写', '目前', '主角', '小说']"
      ]
     },
     "execution_count": 58,
     "metadata": {},
     "output_type": "execute_result"
    }
   ],
   "source": [
    "stopwords_list[:5]"
   ]
  },
  {
   "cell_type": "code",
   "execution_count": 59,
   "metadata": {},
   "outputs": [],
   "source": [
    "def remove_digits(input_str):\n",
    "    punc = u'0123456789.'\n",
    "    output_str = re.sub(r'[{}]+'.format(punc), '', input_str)\n",
    "    return output_str\n",
    "def move_stopwords(sentence_list, stopwords_list):\n",
    "    out_list = []#results\n",
    "    for word in sentence_list:\n",
    "        if word not in stopwords_list:\n",
    "            if not remove_digits(word):\n",
    "                continue\n",
    "            if word != '\\t':\n",
    "                out_list.append(word)\n",
    "    return ' '.join(out_list)"
   ]
  },
  {
   "cell_type": "code",
   "execution_count": 60,
   "metadata": {},
   "outputs": [],
   "source": [
    "#df['split_title']=df['title'].map(lambda x:move_stopwords(list(jieba.cut(x)),stopwords_list))\n",
    "df['discription']=df['discription'].astype('str')"
   ]
  },
  {
   "cell_type": "code",
   "execution_count": 61,
   "metadata": {},
   "outputs": [
    {
     "data": {
      "text/html": [
       "<div>\n",
       "<style scoped>\n",
       "    .dataframe tbody tr th:only-of-type {\n",
       "        vertical-align: middle;\n",
       "    }\n",
       "\n",
       "    .dataframe tbody tr th {\n",
       "        vertical-align: top;\n",
       "    }\n",
       "\n",
       "    .dataframe thead th {\n",
       "        text-align: right;\n",
       "    }\n",
       "</style>\n",
       "<table border=\"1\" class=\"dataframe\">\n",
       "  <thead>\n",
       "    <tr style=\"text-align: right;\">\n",
       "      <th></th>\n",
       "      <th>title</th>\n",
       "      <th>link</th>\n",
       "      <th>author</th>\n",
       "      <th>wordNum</th>\n",
       "      <th>read</th>\n",
       "      <th>discription</th>\n",
       "    </tr>\n",
       "    <tr>\n",
       "      <th>id</th>\n",
       "      <th></th>\n",
       "      <th></th>\n",
       "      <th></th>\n",
       "      <th></th>\n",
       "      <th></th>\n",
       "      <th></th>\n",
       "    </tr>\n",
       "  </thead>\n",
       "  <tbody>\n",
       "    <tr>\n",
       "      <th>7260</th>\n",
       "      <td>田园喜嫁之娘子太难追</td>\n",
       "      <td>https://www.biquker.com/xiaoshuo/7260.html</td>\n",
       "      <td>楚正秋</td>\n",
       "      <td>1052000字</td>\n",
       "      <td>1</td>\n",
       "      <td>《田园喜嫁之娘子太难追》是由作者楚正秋编写的一部穿越言情小说，目前已完结，主角是姚瑶、秦玥，...</td>\n",
       "    </tr>\n",
       "    <tr>\n",
       "      <th>7246</th>\n",
       "      <td>重生之极品赘婿</td>\n",
       "      <td>https://www.biquker.com/xiaoshuo/7246.html</td>\n",
       "      <td>腾霄</td>\n",
       "      <td>1616000字</td>\n",
       "      <td>8</td>\n",
       "      <td>《重生之极品赘婿》是由作者腾霄编写的一部重生小说，目前已完结，主角是杨元良，小说的故事主要讲...</td>\n",
       "    </tr>\n",
       "    <tr>\n",
       "      <th>7243</th>\n",
       "      <td>萌娘守护者</td>\n",
       "      <td>https://www.biquker.com/xiaoshuo/7243.html</td>\n",
       "      <td>王骑士</td>\n",
       "      <td>2874000字</td>\n",
       "      <td>3</td>\n",
       "      <td>《萌娘守护者》是由作者王骑士编写的一部科幻小说，目前已完结，主角是吴风，小说的故事主要讲述了...</td>\n",
       "    </tr>\n",
       "    <tr>\n",
       "      <th>7242</th>\n",
       "      <td>老婆大人有点暖</td>\n",
       "      <td>https://www.biquker.com/xiaoshuo/7242.html</td>\n",
       "      <td>i笛声悠扬</td>\n",
       "      <td>2006000字</td>\n",
       "      <td>3</td>\n",
       "      <td>《老婆大人有点暖》是由作者i笛声悠扬编写的一部言情小说，目前已完结，主角是夏馨菲、穆梓轩、，...</td>\n",
       "    </tr>\n",
       "    <tr>\n",
       "      <th>7240</th>\n",
       "      <td>夜撩甜妻：秘爱豪门小太太</td>\n",
       "      <td>https://www.biquker.com/xiaoshuo/7240.html</td>\n",
       "      <td>炒鸡萌</td>\n",
       "      <td>1962000字</td>\n",
       "      <td>4</td>\n",
       "      <td>《夜撩甜妻：秘爱豪门小太太》是由作者炒鸡萌编写的一部言情小说，目前已完结，主角是桑梚、顾祈言...</td>\n",
       "    </tr>\n",
       "  </tbody>\n",
       "</table>\n",
       "</div>"
      ],
      "text/plain": [
       "             title                                        link author  \\\n",
       "id                                                                      \n",
       "7260    田园喜嫁之娘子太难追  https://www.biquker.com/xiaoshuo/7260.html    楚正秋   \n",
       "7246       重生之极品赘婿  https://www.biquker.com/xiaoshuo/7246.html     腾霄   \n",
       "7243         萌娘守护者  https://www.biquker.com/xiaoshuo/7243.html    王骑士   \n",
       "7242       老婆大人有点暖  https://www.biquker.com/xiaoshuo/7242.html  i笛声悠扬   \n",
       "7240  夜撩甜妻：秘爱豪门小太太  https://www.biquker.com/xiaoshuo/7240.html    炒鸡萌   \n",
       "\n",
       "       wordNum  read                                        discription  \n",
       "id                                                                       \n",
       "7260  1052000字     1  《田园喜嫁之娘子太难追》是由作者楚正秋编写的一部穿越言情小说，目前已完结，主角是姚瑶、秦玥，...  \n",
       "7246  1616000字     8  《重生之极品赘婿》是由作者腾霄编写的一部重生小说，目前已完结，主角是杨元良，小说的故事主要讲...  \n",
       "7243  2874000字     3  《萌娘守护者》是由作者王骑士编写的一部科幻小说，目前已完结，主角是吴风，小说的故事主要讲述了...  \n",
       "7242  2006000字     3  《老婆大人有点暖》是由作者i笛声悠扬编写的一部言情小说，目前已完结，主角是夏馨菲、穆梓轩、，...  \n",
       "7240  1962000字     4  《夜撩甜妻：秘爱豪门小太太》是由作者炒鸡萌编写的一部言情小说，目前已完结，主角是桑梚、顾祈言...  "
      ]
     },
     "execution_count": 61,
     "metadata": {},
     "output_type": "execute_result"
    }
   ],
   "source": [
    "df.head()"
   ]
  },
  {
   "cell_type": "code",
   "execution_count": 62,
   "metadata": {},
   "outputs": [
    {
     "data": {
      "text/html": [
       "<div>\n",
       "<style scoped>\n",
       "    .dataframe tbody tr th:only-of-type {\n",
       "        vertical-align: middle;\n",
       "    }\n",
       "\n",
       "    .dataframe tbody tr th {\n",
       "        vertical-align: top;\n",
       "    }\n",
       "\n",
       "    .dataframe thead th {\n",
       "        text-align: right;\n",
       "    }\n",
       "</style>\n",
       "<table border=\"1\" class=\"dataframe\">\n",
       "  <thead>\n",
       "    <tr style=\"text-align: right;\">\n",
       "      <th></th>\n",
       "      <th>title</th>\n",
       "      <th>link</th>\n",
       "      <th>author</th>\n",
       "      <th>wordNum</th>\n",
       "      <th>read</th>\n",
       "      <th>discription</th>\n",
       "    </tr>\n",
       "    <tr>\n",
       "      <th>id</th>\n",
       "      <th></th>\n",
       "      <th></th>\n",
       "      <th></th>\n",
       "      <th></th>\n",
       "      <th></th>\n",
       "      <th></th>\n",
       "    </tr>\n",
       "  </thead>\n",
       "  <tbody>\n",
       "    <tr>\n",
       "      <th>7260</th>\n",
       "      <td>田园喜嫁之娘子太难追</td>\n",
       "      <td>https://www.biquker.com/xiaoshuo/7260.html</td>\n",
       "      <td>楚正秋</td>\n",
       "      <td>1052000字</td>\n",
       "      <td>1</td>\n",
       "      <td>田园 喜嫁 娘子 太难 追 楚正秋 穿越 言情小说 完结 姚瑶 秦玥 姚瑶 穿越 变成 村里...</td>\n",
       "    </tr>\n",
       "    <tr>\n",
       "      <th>7246</th>\n",
       "      <td>重生之极品赘婿</td>\n",
       "      <td>https://www.biquker.com/xiaoshuo/7246.html</td>\n",
       "      <td>腾霄</td>\n",
       "      <td>1616000字</td>\n",
       "      <td>8</td>\n",
       "      <td>重生 极品 赘婿 腾霄 重生 完结 杨元良 科学 杨 国威 穿越 类似 宋朝 平行 世界 成...</td>\n",
       "    </tr>\n",
       "    <tr>\n",
       "      <th>7243</th>\n",
       "      <td>萌娘守护者</td>\n",
       "      <td>https://www.biquker.com/xiaoshuo/7243.html</td>\n",
       "      <td>王骑士</td>\n",
       "      <td>2874000字</td>\n",
       "      <td>3</td>\n",
       "      <td>萌娘 守护者 王 骑士 科幻小说 完结 吴风 想 穿越 动漫 世界 想 动漫 妹纸 零距离 ...</td>\n",
       "    </tr>\n",
       "    <tr>\n",
       "      <th>7242</th>\n",
       "      <td>老婆大人有点暖</td>\n",
       "      <td>https://www.biquker.com/xiaoshuo/7242.html</td>\n",
       "      <td>i笛声悠扬</td>\n",
       "      <td>2006000字</td>\n",
       "      <td>3</td>\n",
       "      <td>老婆大人 有点 暖 i 笛声 悠扬 言情小说 完结 夏馨菲 穆梓轩 一场 精心设计 嫁给 挚...</td>\n",
       "    </tr>\n",
       "    <tr>\n",
       "      <th>7240</th>\n",
       "      <td>夜撩甜妻：秘爱豪门小太太</td>\n",
       "      <td>https://www.biquker.com/xiaoshuo/7240.html</td>\n",
       "      <td>炒鸡萌</td>\n",
       "      <td>1962000字</td>\n",
       "      <td>4</td>\n",
       "      <td>夜 撩 甜妻 秘爱 豪门 太太 炒鸡萌 言情小说 完结 桑 梚 顾祈言 姐姐 婚前 死亡 代...</td>\n",
       "    </tr>\n",
       "  </tbody>\n",
       "</table>\n",
       "</div>"
      ],
      "text/plain": [
       "             title                                        link author  \\\n",
       "id                                                                      \n",
       "7260    田园喜嫁之娘子太难追  https://www.biquker.com/xiaoshuo/7260.html    楚正秋   \n",
       "7246       重生之极品赘婿  https://www.biquker.com/xiaoshuo/7246.html     腾霄   \n",
       "7243         萌娘守护者  https://www.biquker.com/xiaoshuo/7243.html    王骑士   \n",
       "7242       老婆大人有点暖  https://www.biquker.com/xiaoshuo/7242.html  i笛声悠扬   \n",
       "7240  夜撩甜妻：秘爱豪门小太太  https://www.biquker.com/xiaoshuo/7240.html    炒鸡萌   \n",
       "\n",
       "       wordNum  read                                        discription  \n",
       "id                                                                       \n",
       "7260  1052000字     1  田园 喜嫁 娘子 太难 追 楚正秋 穿越 言情小说 完结 姚瑶 秦玥 姚瑶 穿越 变成 村里...  \n",
       "7246  1616000字     8  重生 极品 赘婿 腾霄 重生 完结 杨元良 科学 杨 国威 穿越 类似 宋朝 平行 世界 成...  \n",
       "7243  2874000字     3  萌娘 守护者 王 骑士 科幻小说 完结 吴风 想 穿越 动漫 世界 想 动漫 妹纸 零距离 ...  \n",
       "7242  2006000字     3  老婆大人 有点 暖 i 笛声 悠扬 言情小说 完结 夏馨菲 穆梓轩 一场 精心设计 嫁给 挚...  \n",
       "7240  1962000字     4  夜 撩 甜妻 秘爱 豪门 太太 炒鸡萌 言情小说 完结 桑 梚 顾祈言 姐姐 婚前 死亡 代...  "
      ]
     },
     "execution_count": 62,
     "metadata": {},
     "output_type": "execute_result"
    }
   ],
   "source": [
    "df['discription']=df['discription'].map(lambda x:move_stopwords(list(jieba.cut(x.replace(u'\\xa0', u''))),stopwords_list))\n",
    "df.head()"
   ]
  },
  {
   "cell_type": "code",
   "execution_count": 63,
   "metadata": {
    "scrolled": true
   },
   "outputs": [
    {
     "data": {
      "text/plain": [
       "'田园 喜嫁 娘子 太难 追 楚正秋 穿越 言情小说 完结 姚瑶 秦玥 姚瑶 穿越 变成 村里 傻妞 姚二丫 破屋 烂床 穷苦 无粮 但父 慈母 善 姐姐 彪悍 护短 弟妹 呆萌 纯良 一穷二白 何惧 有手 脚 脑 财源 自然 滚滚 极品 亲戚 一箩筐 姚瑶 原则 小女子 动口 动手 毒舌 怼 吐血 出手 没商量 一手 种田 一手 经商 家人 美 小日子 过得 温馨 惬意 及笄 便 媒婆 踏破 门槛 姚瑶 一句 嫁人 嫁人 我要 娶 夫 打发 干净 第二天 竟真 有人 主动'"
      ]
     },
     "execution_count": 63,
     "metadata": {},
     "output_type": "execute_result"
    }
   ],
   "source": [
    "df['discription'][0]"
   ]
  },
  {
   "cell_type": "markdown",
   "metadata": {},
   "source": [
    "## 向量化&计算余弦相似度"
   ]
  },
  {
   "cell_type": "code",
   "execution_count": 64,
   "metadata": {},
   "outputs": [],
   "source": [
    "count = CountVectorizer()\n",
    "count_matrix = count.fit_transform(df['discription'])"
   ]
  },
  {
   "cell_type": "code",
   "execution_count": 65,
   "metadata": {},
   "outputs": [
    {
     "data": {
      "text/plain": [
       "array([[1.        , 0.06030227, 0.06238314, ..., 0.05653338, 0.01247663,\n",
       "        0.01411956],\n",
       "       [0.06030227, 1.        , 0.11586482, ..., 0.05      , 0.03310424,\n",
       "        0.01873172],\n",
       "       [0.06238314, 0.11586482, 1.        , ..., 0.06207044, 0.04109589,\n",
       "        0.01550248],\n",
       "       ...,\n",
       "       [0.05653338, 0.05      , 0.06207044, ..., 1.        , 0.06207044,\n",
       "        0.04682929],\n",
       "       [0.01247663, 0.03310424, 0.04109589, ..., 0.06207044, 1.        ,\n",
       "        0.03100496],\n",
       "       [0.01411956, 0.01873172, 0.01550248, ..., 0.04682929, 0.03100496,\n",
       "        1.        ]])"
      ]
     },
     "execution_count": 65,
     "metadata": {},
     "output_type": "execute_result"
    }
   ],
   "source": [
    "cosine_sim = cosine_similarity(count_matrix, count_matrix)\n",
    "cosine_sim"
   ]
  },
  {
   "cell_type": "code",
   "execution_count": 66,
   "metadata": {},
   "outputs": [
    {
     "data": {
      "text/plain": [
       "0    7260\n",
       "1    7246\n",
       "2    7243\n",
       "3    7242\n",
       "4    7240\n",
       "Name: id, dtype: object"
      ]
     },
     "execution_count": 66,
     "metadata": {},
     "output_type": "execute_result"
    }
   ],
   "source": [
    "indices = pd.Series(df.index)\n",
    "indices[:5]"
   ]
  },
  {
   "cell_type": "markdown",
   "metadata": {},
   "source": [
    "## 选择10部值得推荐的小说"
   ]
  },
  {
   "cell_type": "code",
   "execution_count": 67,
   "metadata": {},
   "outputs": [],
   "source": [
    "def recommendations(title, cosine_sim = cosine_sim):    \n",
    "    recommended_movies = []\n",
    "    # gettin the index of the movie that matches the title\n",
    "    idx = indices[indices == title].index[0]\n",
    "    # creating a Series with the similarity scores in descending order\n",
    "    score_series = pd.Series(cosine_sim[idx]).sort_values(ascending = False)\n",
    "    # getting the indexes of the 10 most similar movies\n",
    "    top_10_indexes = list(score_series.iloc[1:10].index)\n",
    "    # populating the list with the titles of the best 10 matching movies\n",
    "    for i in top_10_indexes:\n",
    "        recommended_movies.append(list(df.index)[i])\n",
    "    return recommended_movies"
   ]
  },
  {
   "cell_type": "code",
   "execution_count": 68,
   "metadata": {},
   "outputs": [
    {
     "name": "stdout",
     "output_type": "stream",
     "text": [
      "《田园喜嫁之娘子太难追》的相关推荐小说是：\n",
      "\n",
      "医妃妙手冠朝堂\n",
      "一品村姑+番外\n",
      "萌宠兽世：兽夫，么么哒！\n",
      "田园小蛮妃\n",
      "穿越之锦绣田园\n",
      "穿越者吹水群\n",
      "农门贵女\n",
      "穿越农女发家记\n",
      "穿越之锦绣医途\n"
     ]
    }
   ],
   "source": [
    "rec_list=recommendations('7260')\n",
    "print('《'+id2t['7260']+\"》\"+'的相关推荐小说是：')\n",
    "print()\n",
    "for v in rec_list:\n",
    "    print(id2t[v])"
   ]
  },
  {
   "cell_type": "code",
   "execution_count": 69,
   "metadata": {},
   "outputs": [
    {
     "data": {
      "text/html": [
       "<div>\n",
       "<style scoped>\n",
       "    .dataframe tbody tr th:only-of-type {\n",
       "        vertical-align: middle;\n",
       "    }\n",
       "\n",
       "    .dataframe tbody tr th {\n",
       "        vertical-align: top;\n",
       "    }\n",
       "\n",
       "    .dataframe thead th {\n",
       "        text-align: right;\n",
       "    }\n",
       "</style>\n",
       "<table border=\"1\" class=\"dataframe\">\n",
       "  <thead>\n",
       "    <tr style=\"text-align: right;\">\n",
       "      <th></th>\n",
       "      <th>title</th>\n",
       "      <th>link</th>\n",
       "      <th>author</th>\n",
       "      <th>wordNum</th>\n",
       "      <th>read</th>\n",
       "      <th>discription</th>\n",
       "    </tr>\n",
       "    <tr>\n",
       "      <th>id</th>\n",
       "      <th></th>\n",
       "      <th></th>\n",
       "      <th></th>\n",
       "      <th></th>\n",
       "      <th></th>\n",
       "      <th></th>\n",
       "    </tr>\n",
       "  </thead>\n",
       "  <tbody>\n",
       "    <tr>\n",
       "      <th>7260</th>\n",
       "      <td>田园喜嫁之娘子太难追</td>\n",
       "      <td>https://www.biquker.com/xiaoshuo/7260.html</td>\n",
       "      <td>楚正秋</td>\n",
       "      <td>1052000字</td>\n",
       "      <td>1</td>\n",
       "      <td>田园 喜嫁 娘子 太难 追 楚正秋 穿越 言情小说 完结 姚瑶 秦玥 姚瑶 穿越 变成 村里...</td>\n",
       "    </tr>\n",
       "    <tr>\n",
       "      <th>7246</th>\n",
       "      <td>重生之极品赘婿</td>\n",
       "      <td>https://www.biquker.com/xiaoshuo/7246.html</td>\n",
       "      <td>腾霄</td>\n",
       "      <td>1616000字</td>\n",
       "      <td>8</td>\n",
       "      <td>重生 极品 赘婿 腾霄 重生 完结 杨元良 科学 杨 国威 穿越 类似 宋朝 平行 世界 成...</td>\n",
       "    </tr>\n",
       "    <tr>\n",
       "      <th>7243</th>\n",
       "      <td>萌娘守护者</td>\n",
       "      <td>https://www.biquker.com/xiaoshuo/7243.html</td>\n",
       "      <td>王骑士</td>\n",
       "      <td>2874000字</td>\n",
       "      <td>3</td>\n",
       "      <td>萌娘 守护者 王 骑士 科幻小说 完结 吴风 想 穿越 动漫 世界 想 动漫 妹纸 零距离 ...</td>\n",
       "    </tr>\n",
       "    <tr>\n",
       "      <th>7242</th>\n",
       "      <td>老婆大人有点暖</td>\n",
       "      <td>https://www.biquker.com/xiaoshuo/7242.html</td>\n",
       "      <td>i笛声悠扬</td>\n",
       "      <td>2006000字</td>\n",
       "      <td>3</td>\n",
       "      <td>老婆大人 有点 暖 i 笛声 悠扬 言情小说 完结 夏馨菲 穆梓轩 一场 精心设计 嫁给 挚...</td>\n",
       "    </tr>\n",
       "    <tr>\n",
       "      <th>7240</th>\n",
       "      <td>夜撩甜妻：秘爱豪门小太太</td>\n",
       "      <td>https://www.biquker.com/xiaoshuo/7240.html</td>\n",
       "      <td>炒鸡萌</td>\n",
       "      <td>1962000字</td>\n",
       "      <td>4</td>\n",
       "      <td>夜 撩 甜妻 秘爱 豪门 太太 炒鸡萌 言情小说 完结 桑 梚 顾祈言 姐姐 婚前 死亡 代...</td>\n",
       "    </tr>\n",
       "  </tbody>\n",
       "</table>\n",
       "</div>"
      ],
      "text/plain": [
       "             title                                        link author  \\\n",
       "id                                                                      \n",
       "7260    田园喜嫁之娘子太难追  https://www.biquker.com/xiaoshuo/7260.html    楚正秋   \n",
       "7246       重生之极品赘婿  https://www.biquker.com/xiaoshuo/7246.html     腾霄   \n",
       "7243         萌娘守护者  https://www.biquker.com/xiaoshuo/7243.html    王骑士   \n",
       "7242       老婆大人有点暖  https://www.biquker.com/xiaoshuo/7242.html  i笛声悠扬   \n",
       "7240  夜撩甜妻：秘爱豪门小太太  https://www.biquker.com/xiaoshuo/7240.html    炒鸡萌   \n",
       "\n",
       "       wordNum  read                                        discription  \n",
       "id                                                                       \n",
       "7260  1052000字     1  田园 喜嫁 娘子 太难 追 楚正秋 穿越 言情小说 完结 姚瑶 秦玥 姚瑶 穿越 变成 村里...  \n",
       "7246  1616000字     8  重生 极品 赘婿 腾霄 重生 完结 杨元良 科学 杨 国威 穿越 类似 宋朝 平行 世界 成...  \n",
       "7243  2874000字     3  萌娘 守护者 王 骑士 科幻小说 完结 吴风 想 穿越 动漫 世界 想 动漫 妹纸 零距离 ...  \n",
       "7242  2006000字     3  老婆大人 有点 暖 i 笛声 悠扬 言情小说 完结 夏馨菲 穆梓轩 一场 精心设计 嫁给 挚...  \n",
       "7240  1962000字     4  夜 撩 甜妻 秘爱 豪门 太太 炒鸡萌 言情小说 完结 桑 梚 顾祈言 姐姐 婚前 死亡 代...  "
      ]
     },
     "execution_count": 69,
     "metadata": {},
     "output_type": "execute_result"
    }
   ],
   "source": [
    "df.head()"
   ]
  },
  {
   "cell_type": "code",
   "execution_count": 70,
   "metadata": {
    "scrolled": true
   },
   "outputs": [
    {
     "data": {
      "text/html": [
       "<div>\n",
       "<style scoped>\n",
       "    .dataframe tbody tr th:only-of-type {\n",
       "        vertical-align: middle;\n",
       "    }\n",
       "\n",
       "    .dataframe tbody tr th {\n",
       "        vertical-align: top;\n",
       "    }\n",
       "\n",
       "    .dataframe thead th {\n",
       "        text-align: right;\n",
       "    }\n",
       "</style>\n",
       "<table border=\"1\" class=\"dataframe\">\n",
       "  <thead>\n",
       "    <tr style=\"text-align: right;\">\n",
       "      <th></th>\n",
       "      <th>title</th>\n",
       "      <th>link</th>\n",
       "      <th>author</th>\n",
       "      <th>wordNum</th>\n",
       "      <th>read</th>\n",
       "      <th>discription</th>\n",
       "      <th>rec</th>\n",
       "    </tr>\n",
       "    <tr>\n",
       "      <th>id</th>\n",
       "      <th></th>\n",
       "      <th></th>\n",
       "      <th></th>\n",
       "      <th></th>\n",
       "      <th></th>\n",
       "      <th></th>\n",
       "      <th></th>\n",
       "    </tr>\n",
       "  </thead>\n",
       "  <tbody>\n",
       "    <tr>\n",
       "      <th>7260</th>\n",
       "      <td>田园喜嫁之娘子太难追</td>\n",
       "      <td>https://www.biquker.com/xiaoshuo/7260.html</td>\n",
       "      <td>楚正秋</td>\n",
       "      <td>1052000字</td>\n",
       "      <td>1</td>\n",
       "      <td>田园 喜嫁 娘子 太难 追 楚正秋 穿越 言情小说 完结 姚瑶 秦玥 姚瑶 穿越 变成 村里...</td>\n",
       "      <td>医妃妙手冠朝堂 一品村姑+番外 萌宠兽世：兽夫，么么哒！ 田园小蛮妃 穿越之锦绣田园 穿越者...</td>\n",
       "    </tr>\n",
       "    <tr>\n",
       "      <th>7246</th>\n",
       "      <td>重生之极品赘婿</td>\n",
       "      <td>https://www.biquker.com/xiaoshuo/7246.html</td>\n",
       "      <td>腾霄</td>\n",
       "      <td>1616000字</td>\n",
       "      <td>8</td>\n",
       "      <td>重生 极品 赘婿 腾霄 重生 完结 杨元良 科学 杨 国威 穿越 类似 宋朝 平行 世界 成...</td>\n",
       "      <td>重生之女神养成计划 校园重生：最强女特工 重生嫡女：风华倾天下 嫡女重生：凤霸天下 重生专宠...</td>\n",
       "    </tr>\n",
       "    <tr>\n",
       "      <th>7243</th>\n",
       "      <td>萌娘守护者</td>\n",
       "      <td>https://www.biquker.com/xiaoshuo/7243.html</td>\n",
       "      <td>王骑士</td>\n",
       "      <td>2874000字</td>\n",
       "      <td>3</td>\n",
       "      <td>萌娘 守护者 王 骑士 科幻小说 完结 吴风 想 穿越 动漫 世界 想 动漫 妹纸 零距离 ...</td>\n",
       "      <td>变身之穿越异世界的吸血真祖 巫师世界 征战诸天世界 邪王追妻：废柴小兽妃 撕天纪 萌宠兽世：...</td>\n",
       "    </tr>\n",
       "    <tr>\n",
       "      <th>7242</th>\n",
       "      <td>老婆大人有点暖</td>\n",
       "      <td>https://www.biquker.com/xiaoshuo/7242.html</td>\n",
       "      <td>i笛声悠扬</td>\n",
       "      <td>2006000字</td>\n",
       "      <td>3</td>\n",
       "      <td>老婆大人 有点 暖 i 笛声 悠扬 言情小说 完结 夏馨菲 穆梓轩 一场 精心设计 嫁给 挚...</td>\n",
       "      <td>靳少强宠小逃妻 闪婚蜜爱：霸道总裁蜜宠妻 豪门闪婚：总裁霸道宠 不得不爱：总裁请温柔 顾少的...</td>\n",
       "    </tr>\n",
       "    <tr>\n",
       "      <th>7240</th>\n",
       "      <td>夜撩甜妻：秘爱豪门小太太</td>\n",
       "      <td>https://www.biquker.com/xiaoshuo/7240.html</td>\n",
       "      <td>炒鸡萌</td>\n",
       "      <td>1962000字</td>\n",
       "      <td>4</td>\n",
       "      <td>夜 撩 甜妻 秘爱 豪门 太太 炒鸡萌 言情小说 完结 桑 梚 顾祈言 姐姐 婚前 死亡 代...</td>\n",
       "      <td>秘爱豪门小太太 溺爱豪门小萌妻 傅少的秘宠娇妻 蜜爱暖宠小甜妻 风流名将 名门盛婚 总裁宠妻...</td>\n",
       "    </tr>\n",
       "  </tbody>\n",
       "</table>\n",
       "</div>"
      ],
      "text/plain": [
       "             title                                        link author  \\\n",
       "id                                                                      \n",
       "7260    田园喜嫁之娘子太难追  https://www.biquker.com/xiaoshuo/7260.html    楚正秋   \n",
       "7246       重生之极品赘婿  https://www.biquker.com/xiaoshuo/7246.html     腾霄   \n",
       "7243         萌娘守护者  https://www.biquker.com/xiaoshuo/7243.html    王骑士   \n",
       "7242       老婆大人有点暖  https://www.biquker.com/xiaoshuo/7242.html  i笛声悠扬   \n",
       "7240  夜撩甜妻：秘爱豪门小太太  https://www.biquker.com/xiaoshuo/7240.html    炒鸡萌   \n",
       "\n",
       "       wordNum  read                                        discription  \\\n",
       "id                                                                        \n",
       "7260  1052000字     1  田园 喜嫁 娘子 太难 追 楚正秋 穿越 言情小说 完结 姚瑶 秦玥 姚瑶 穿越 变成 村里...   \n",
       "7246  1616000字     8  重生 极品 赘婿 腾霄 重生 完结 杨元良 科学 杨 国威 穿越 类似 宋朝 平行 世界 成...   \n",
       "7243  2874000字     3  萌娘 守护者 王 骑士 科幻小说 完结 吴风 想 穿越 动漫 世界 想 动漫 妹纸 零距离 ...   \n",
       "7242  2006000字     3  老婆大人 有点 暖 i 笛声 悠扬 言情小说 完结 夏馨菲 穆梓轩 一场 精心设计 嫁给 挚...   \n",
       "7240  1962000字     4  夜 撩 甜妻 秘爱 豪门 太太 炒鸡萌 言情小说 完结 桑 梚 顾祈言 姐姐 婚前 死亡 代...   \n",
       "\n",
       "                                                    rec  \n",
       "id                                                       \n",
       "7260  医妃妙手冠朝堂 一品村姑+番外 萌宠兽世：兽夫，么么哒！ 田园小蛮妃 穿越之锦绣田园 穿越者...  \n",
       "7246  重生之女神养成计划 校园重生：最强女特工 重生嫡女：风华倾天下 嫡女重生：凤霸天下 重生专宠...  \n",
       "7243  变身之穿越异世界的吸血真祖 巫师世界 征战诸天世界 邪王追妻：废柴小兽妃 撕天纪 萌宠兽世：...  \n",
       "7242  靳少强宠小逃妻 闪婚蜜爱：霸道总裁蜜宠妻 豪门闪婚：总裁霸道宠 不得不爱：总裁请温柔 顾少的...  \n",
       "7240  秘爱豪门小太太 溺爱豪门小萌妻 傅少的秘宠娇妻 蜜爱暖宠小甜妻 风流名将 名门盛婚 总裁宠妻...  "
      ]
     },
     "execution_count": 70,
     "metadata": {},
     "output_type": "execute_result"
    }
   ],
   "source": [
    "df['rec']=df.index.map(lambda x:' '.join([id2t[y] for y in recommendations(x)]))\n",
    "df.head()"
   ]
  },
  {
   "cell_type": "code",
   "execution_count": 78,
   "metadata": {},
   "outputs": [],
   "source": [
    "df.drop(columns=['discription'],inplace=True)"
   ]
  },
  {
   "cell_type": "markdown",
   "metadata": {},
   "source": [
    "# 保存数据"
   ]
  },
  {
   "cell_type": "code",
   "execution_count": 79,
   "metadata": {},
   "outputs": [],
   "source": [
    "df.to_csv(\"./results/biquge2500_results.csv\",index=False, sep=',',encoding='utf-8')"
   ]
  },
  {
   "cell_type": "code",
   "execution_count": null,
   "metadata": {},
   "outputs": [],
   "source": []
  }
 ],
 "metadata": {
  "kernelspec": {
   "display_name": "Python 3",
   "language": "python",
   "name": "python3"
  },
  "language_info": {
   "codemirror_mode": {
    "name": "ipython",
    "version": 3
   },
   "file_extension": ".py",
   "mimetype": "text/x-python",
   "name": "python",
   "nbconvert_exporter": "python",
   "pygments_lexer": "ipython3",
   "version": "3.7.9"
  }
 },
 "nbformat": 4,
 "nbformat_minor": 4
}
